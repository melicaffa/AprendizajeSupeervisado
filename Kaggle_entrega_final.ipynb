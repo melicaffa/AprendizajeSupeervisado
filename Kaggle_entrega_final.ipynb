{
  "nbformat": 4,
  "nbformat_minor": 0,
  "metadata": {
    "kernelspec": {
      "display_name": "Python 3",
      "language": "python",
      "name": "python3"
    },
    "language_info": {
      "codemirror_mode": {
        "name": "ipython",
        "version": 3
      },
      "file_extension": ".py",
      "mimetype": "text/x-python",
      "name": "python",
      "nbconvert_exporter": "python",
      "pygments_lexer": "ipython3",
      "version": "3.6.10"
    },
    "colab": {
      "name": "Kaggle_entrega_final.ipynb",
      "provenance": [],
      "collapsed_sections": []
    }
  },
  "cells": [
    {
      "cell_type": "markdown",
      "metadata": {
        "id": "RYoOiEYXoSAJ",
        "colab_type": "text"
      },
      "source": [
        "# Diplodatos Kaggle Competition"
      ]
    },
    {
      "cell_type": "markdown",
      "metadata": {
        "id": "zeGzAToCoSAK",
        "colab_type": "text"
      },
      "source": [
        "We present this peace of code to create the baseline for the competition, and as an example of how to deal with these kind of problems. The main goals are that you:\n",
        "\n",
        "1. Learn\n",
        "1. Try different models and see which one fits the best the given data\n",
        "1. Get a higher score than the given one in the current baseline example\n",
        "1. Try to get the highest score in the class :)"
      ]
    },
    {
      "cell_type": "code",
      "metadata": {
        "id": "fmzh-QKuoSAL",
        "colab_type": "code",
        "colab": {}
      },
      "source": [
        "# Import the required packages\n",
        "import warnings\n",
        "\n",
        "#import numpy as np\n",
        "import pandas as pd\n",
        "\n",
        "from sklearn.model_selection import GridSearchCV, train_test_split\n",
        "from sklearn.metrics import accuracy_score\n",
        "from sklearn.pipeline import make_pipeline\n",
        "from sklearn.preprocessing import StandardScaler\n",
        "from sklearn.ensemble import RandomForestClassifier\n",
        "from xgboost import XGBClassifier"
      ],
      "execution_count": null,
      "outputs": []
    },
    {
      "cell_type": "code",
      "metadata": {
        "id": "bQCLhhEq2Tko",
        "colab_type": "code",
        "colab": {}
      },
      "source": [
        "def transform_data(train_data_fname, test_data_fname):\n",
        "    df_train = pd.read_csv(train_data_fname)\n",
        "    df_train['is_train_set'] = 1\n",
        "    df_test = pd.read_csv(test_data_fname)\n",
        "    df_test['is_train_set'] = 0\n",
        "\n",
        "    y = df_train.groupby([\"VisitNumber\", \"Weekday\"], as_index=False).max().TripType\n",
        "    df_train = df_train.drop(\"TripType\", axis=1)\n",
        "    df = pd.concat([df_train, df_test])\n",
        "\n",
        "    df.drop_duplicates(keep='first', ignore_index=True, inplace=True)\n",
        "\n",
        "    mask = df.Upc.isna()\n",
        "    column_name = 'Upc'\n",
        "    df.loc[mask, column_name] = 0\n",
        "\n",
        "    mask = (df.FinelineNumber.isna())&(df.DepartmentDescription=='PHARMACY RX')\n",
        "    column_name = 'FinelineNumber'\n",
        "    df.loc[mask, column_name] = 4822.0\n",
        "\n",
        "    df = pd.get_dummies(df, columns=[\"DepartmentDescription\"], dummy_na=False)\n",
        "\n",
        "    df = df.groupby([\"VisitNumber\", \"Weekday\"], as_index=False).sum()\n",
        "   \n",
        "    df.Weekday=[1 if day in ['Sunday', 'Saturday'] else 0 for day in df.Weekday]\n",
        "\n",
        "    df = pd.get_dummies(df, columns=[\"Weekday\"], dummy_na=False)\n",
        "\n",
        "    #df=df.dropna()\n",
        "\n",
        "    # get train and test back\n",
        "    df_train = df[df.is_train_set != 0]\n",
        "    df_test = df[df.is_train_set == 0]\n",
        "    \n",
        "    X = df_train.drop([\"is_train_set\"], axis=1)\n",
        "    yy = None\n",
        "    XX = df_test.drop([\"is_train_set\"], axis=1)\n",
        "\n",
        "    return X, y, XX, yy"
      ],
      "execution_count": null,
      "outputs": []
    },
    {
      "cell_type": "markdown",
      "metadata": {
        "id": "lSgXf2f2oSBl",
        "colab_type": "text"
      },
      "source": [
        "Load the data..."
      ]
    },
    {
      "cell_type": "code",
      "metadata": {
        "id": "dButqcNsoSBm",
        "colab_type": "code",
        "colab": {}
      },
      "source": [
        "X, y, XX, yy = transform_data(\"https://raw.githubusercontent.com/DiploDatos/AprendizajeSupervisado/master/practico/data/train.csv\", \"https://raw.githubusercontent.com/DiploDatos/AprendizajeSupervisado/master/practico/data/test.csv\")"
      ],
      "execution_count": null,
      "outputs": []
    },
    {
      "cell_type": "markdown",
      "metadata": {
        "id": "-jCi-1SroSBq",
        "colab_type": "text"
      },
      "source": [
        "Create the model and evaluate it"
      ]
    },
    {
      "cell_type": "code",
      "metadata": {
        "id": "xqm8xCak7oLS",
        "colab_type": "code",
        "colab": {
          "base_uri": "https://localhost:8080/",
          "height": 34
        },
        "outputId": "b2577c24-fa23-4e47-dfa4-1c4555d4fceb"
      },
      "source": [
        "(X.shape,y.shape)"
      ],
      "execution_count": null,
      "outputs": [
        {
          "output_type": "execute_result",
          "data": {
            "text/plain": [
              "((67029, 74), (67029,))"
            ]
          },
          "metadata": {
            "tags": []
          },
          "execution_count": 4
        }
      ]
    },
    {
      "cell_type": "code",
      "metadata": {
        "id": "7cqaszrod0Mx",
        "colab_type": "code",
        "colab": {
          "base_uri": "https://localhost:8080/",
          "height": 136
        },
        "outputId": "2f08373a-fbe5-48cc-c434-b7ceba131983"
      },
      "source": [
        "X_train, X_test, y_train, y_test = train_test_split(X, y, test_size=0.2, random_state=123)\n",
        "\n",
        "xgb_params = {\n",
        "'learning_rate': [0.01, 0.1],\n",
        "'n_estimators': [2000],\n",
        "'max_depth': [3, 5, 7, 9],\n",
        "'gamma': [0, 1],\n",
        "'subsample': [0.7, 1],\n",
        "'colsample_bytree': [0.7, 1]\n",
        "}\n",
        "\n",
        "model=XGBClassifier()\n",
        "clf = GridSearchCV(model, xgb_params,cv=3)  \n",
        "\n",
        "model.fit(X_train, y_train)"
      ],
      "execution_count": null,
      "outputs": [
        {
          "output_type": "execute_result",
          "data": {
            "text/plain": [
              "XGBClassifier(base_score=0.5, booster='gbtree', colsample_bylevel=1,\n",
              "              colsample_bynode=1, colsample_bytree=1, gamma=0,\n",
              "              learning_rate=0.1, max_delta_step=0, max_depth=3,\n",
              "              min_child_weight=1, missing=None, n_estimators=100, n_jobs=1,\n",
              "              nthread=None, objective='multi:softprob', random_state=0,\n",
              "              reg_alpha=0, reg_lambda=1, scale_pos_weight=1, seed=None,\n",
              "              silent=None, subsample=1, verbosity=1)"
            ]
          },
          "metadata": {
            "tags": []
          },
          "execution_count": 5
        }
      ]
    },
    {
      "cell_type": "code",
      "metadata": {
        "id": "OJmpsXHdir7K",
        "colab_type": "code",
        "colab": {
          "base_uri": "https://localhost:8080/",
          "height": 34
        },
        "outputId": "56c841cf-4f42-46b5-96ca-8f25566f1640"
      },
      "source": [
        "y_pred = model.predict(X_test)\n",
        "predictions = [round(value) for value in y_pred]\n",
        "\n",
        "accuracy = accuracy_score(y_test, predictions)\n",
        "print(\"Accuracy: %.2f%%\" % (accuracy * 100.0))"
      ],
      "execution_count": null,
      "outputs": [
        {
          "output_type": "stream",
          "text": [
            "Accuracy: 69.80%\n"
          ],
          "name": "stdout"
        }
      ]
    },
    {
      "cell_type": "code",
      "metadata": {
        "colab_type": "code",
        "id": "0c4-nedqlSON",
        "colab": {}
      },
      "source": [
        "yy = model.predict(XX)"
      ],
      "execution_count": null,
      "outputs": []
    },
    {
      "cell_type": "markdown",
      "metadata": {
        "id": "AZXmJEYOHNWE",
        "colab_type": "text"
      },
      "source": [
        "Exportamos Resultados\n"
      ]
    },
    {
      "cell_type": "code",
      "metadata": {
        "colab_type": "code",
        "id": "g7-Z8Y5llSOc",
        "colab": {}
      },
      "source": [
        "submission9 = pd.DataFrame(list(zip(XX.VisitNumber, yy)), columns=[\"VisitNumber\", \"TripType\"])"
      ],
      "execution_count": null,
      "outputs": []
    },
    {
      "cell_type": "code",
      "metadata": {
        "colab_type": "code",
        "id": "-XkyMEinlSOn",
        "colab": {}
      },
      "source": [
        "submission9.to_csv(\"sample_data/submission_xgb3.csv\", header=True, index=False)"
      ],
      "execution_count": null,
      "outputs": []
    },
    {
      "cell_type": "markdown",
      "metadata": {
        "id": "gshZXIfmCaFB",
        "colab_type": "text"
      },
      "source": [
        "---"
      ]
    },
    {
      "cell_type": "code",
      "metadata": {
        "id": "e2meJczmKBb5",
        "colab_type": "code",
        "colab": {
          "base_uri": "https://localhost:8080/",
          "height": 289
        },
        "outputId": "7efaf5d6-1938-4c89-80e8-9d1c71a88af0"
      },
      "source": [
        "X_train, X_valid, y_train, y_valid = train_test_split(X, y, test_size=0.25, random_state=42)\n",
        "\n",
        "parameters = {\n",
        "    'randomforestclassifier__n_estimators' : [50,100,120],\n",
        "    'randomforestclassifier__random_state' : [2],\n",
        "    'randomforestclassifier__max_features' : ['auto'],\n",
        "    'randomforestclassifier__criterion'    : ['gini','entropy']\n",
        "}\n",
        "\n",
        "with warnings.catch_warnings():\n",
        "    warnings.filterwarnings(\"ignore\")\n",
        "    model=make_pipeline(StandardScaler(), RandomForestClassifier(random_state=0))\n",
        "    randomtree_clf = GridSearchCV(model, parameters, scoring='accuracy', cv=3)\n",
        "    randomtree_clf.fit(X_train, y_train)\n",
        "    best_tree_clf = randomtree_clf.best_estimator_\n",
        "\n",
        "best_tree_clf"
      ],
      "execution_count": null,
      "outputs": [
        {
          "output_type": "execute_result",
          "data": {
            "text/plain": [
              "Pipeline(memory=None,\n",
              "         steps=[('standardscaler',\n",
              "                 StandardScaler(copy=True, with_mean=True, with_std=True)),\n",
              "                ('randomforestclassifier',\n",
              "                 RandomForestClassifier(bootstrap=True, ccp_alpha=0.0,\n",
              "                                        class_weight=None, criterion='gini',\n",
              "                                        max_depth=None, max_features='auto',\n",
              "                                        max_leaf_nodes=None, max_samples=None,\n",
              "                                        min_impurity_decrease=0.0,\n",
              "                                        min_impurity_split=None,\n",
              "                                        min_samples_leaf=1, min_samples_split=2,\n",
              "                                        min_weight_fraction_leaf=0.0,\n",
              "                                        n_estimators=100, n_jobs=None,\n",
              "                                        oob_score=False, random_state=2,\n",
              "                                        verbose=0, warm_start=False))],\n",
              "         verbose=False)"
            ]
          },
          "metadata": {
            "tags": []
          },
          "execution_count": 10
        }
      ]
    },
    {
      "cell_type": "code",
      "metadata": {
        "id": "Vpk5Eo-KWqpn",
        "colab_type": "code",
        "colab": {
          "base_uri": "https://localhost:8080/",
          "height": 34
        },
        "outputId": "8b1a5ec3-e7ce-435c-d203-30a573c34b1c"
      },
      "source": [
        "print('Best Decision Tree accuracy: ', randomtree_clf.best_score_)"
      ],
      "execution_count": null,
      "outputs": [
        {
          "output_type": "stream",
          "text": [
            "Best Decision Tree accuracy:  0.689542678681546\n"
          ],
          "name": "stdout"
        }
      ]
    },
    {
      "cell_type": "code",
      "metadata": {
        "id": "fpx2730tBegP",
        "colab_type": "code",
        "colab": {
          "base_uri": "https://localhost:8080/",
          "height": 34
        },
        "outputId": "8e0c5ea4-15fa-422b-e729-2d78cf96d1c4"
      },
      "source": [
        "y_pred = randomtree_clf.predict(X_valid)\n",
        "predictions = [round(value) for value in y_pred]\n",
        "\n",
        "accuracy = accuracy_score(y_valid, predictions)\n",
        "print(\"Accuracy: %.2f%%\" % (accuracy * 100.0))"
      ],
      "execution_count": null,
      "outputs": [
        {
          "output_type": "stream",
          "text": [
            "Accuracy: 69.70%\n"
          ],
          "name": "stdout"
        }
      ]
    },
    {
      "cell_type": "code",
      "metadata": {
        "id": "I2E31NH_Bn-1",
        "colab_type": "code",
        "colab": {}
      },
      "source": [
        "yy = randomtree_clf.predict(XX)"
      ],
      "execution_count": null,
      "outputs": []
    },
    {
      "cell_type": "markdown",
      "metadata": {
        "colab_type": "text",
        "id": "CKK2NsA_F1pZ"
      },
      "source": [
        "Exportamos Resultados\n"
      ]
    },
    {
      "cell_type": "code",
      "metadata": {
        "id": "D7X0NZcXHNFh",
        "colab_type": "code",
        "colab": {}
      },
      "source": [
        "submission5 = pd.DataFrame(list(zip(XX.VisitNumber, yy)), columns=[\"VisitNumber\", \"TripType\"])"
      ],
      "execution_count": null,
      "outputs": []
    },
    {
      "cell_type": "code",
      "metadata": {
        "id": "4-oI8GmrI7sU",
        "colab_type": "code",
        "colab": {}
      },
      "source": [
        "submission5.to_csv(\"sample_data/submission_randomforest5.csv\", header=True, index=False)"
      ],
      "execution_count": null,
      "outputs": []
    }
  ]
}