{
  "nbformat": 4,
  "nbformat_minor": 0,
  "metadata": {
    "kernelspec": {
      "display_name": "Python 3",
      "language": "python",
      "name": "python3"
    },
    "language_info": {
      "codemirror_mode": {
        "name": "ipython",
        "version": 3
      },
      "file_extension": ".py",
      "mimetype": "text/x-python",
      "name": "python",
      "nbconvert_exporter": "python",
      "pygments_lexer": "ipython3",
      "version": "3.6.10"
    },
    "colab": {
      "name": "Kaggle_1_0.ipynb",
      "provenance": [],
      "collapsed_sections": []
    }
  },
  "cells": [
    {
      "cell_type": "markdown",
      "metadata": {
        "id": "RYoOiEYXoSAJ",
        "colab_type": "text"
      },
      "source": [
        "# Diplodatos Kaggle Competition"
      ]
    },
    {
      "cell_type": "markdown",
      "metadata": {
        "id": "zeGzAToCoSAK",
        "colab_type": "text"
      },
      "source": [
        "We present this peace of code to create the baseline for the competition, and as an example of how to deal with these kind of problems. The main goals are that you:\n",
        "\n",
        "1. Learn\n",
        "1. Try different models and see which one fits the best the given data\n",
        "1. Get a higher score than the given one in the current baseline example\n",
        "1. Try to get the highest score in the class :)"
      ]
    },
    {
      "cell_type": "code",
      "metadata": {
        "id": "fmzh-QKuoSAL",
        "colab_type": "code",
        "colab": {}
      },
      "source": [
        "# Import the required packages\n",
        "import os\n",
        "from sklearn import preprocessing\n",
        "import numpy as np\n",
        "import pandas as pd\n",
        "import matplotlib.pyplot as plt"
      ],
      "execution_count": 107,
      "outputs": []
    },
    {
      "cell_type": "markdown",
      "metadata": {
        "id": "ybqdvn85oSAQ",
        "colab_type": "text"
      },
      "source": [
        "Read the *original* dataset..."
      ]
    },
    {
      "cell_type": "code",
      "metadata": {
        "id": "YREVk5BLoSAR",
        "colab_type": "code",
        "colab": {}
      },
      "source": [
        "original_df = pd.read_csv('https://raw.githubusercontent.com/DiploDatos/AprendizajeSupervisado/master/practico/data/train.csv')"
      ],
      "execution_count": 108,
      "outputs": []
    },
    {
      "cell_type": "code",
      "metadata": {
        "id": "sQ5xJD6yoSAW",
        "colab_type": "code",
        "colab": {
          "base_uri": "https://localhost:8080/",
          "height": 70
        },
        "outputId": "03beb100-e4c4-4488-f569-b688eadeb099"
      },
      "source": [
        "original_df.columns"
      ],
      "execution_count": 109,
      "outputs": [
        {
          "output_type": "execute_result",
          "data": {
            "text/plain": [
              "Index(['TripType', 'VisitNumber', 'Weekday', 'Upc', 'ScanCount',\n",
              "       'DepartmentDescription', 'FinelineNumber'],\n",
              "      dtype='object')"
            ]
          },
          "metadata": {
            "tags": []
          },
          "execution_count": 109
        }
      ]
    },
    {
      "cell_type": "markdown",
      "metadata": {
        "id": "WryG172VoSAb",
        "colab_type": "text"
      },
      "source": [
        "**TripType** is the column that we should predict. That column is not present in the test set"
      ]
    },
    {
      "cell_type": "code",
      "metadata": {
        "id": "nVMr4itmoSAc",
        "colab_type": "code",
        "colab": {
          "base_uri": "https://localhost:8080/",
          "height": 287
        },
        "outputId": "b098f9c7-48ee-4847-85c8-77be25179251"
      },
      "source": [
        "original_df.describe()"
      ],
      "execution_count": 110,
      "outputs": [
        {
          "output_type": "execute_result",
          "data": {
            "text/html": [
              "<div>\n",
              "<style scoped>\n",
              "    .dataframe tbody tr th:only-of-type {\n",
              "        vertical-align: middle;\n",
              "    }\n",
              "\n",
              "    .dataframe tbody tr th {\n",
              "        vertical-align: top;\n",
              "    }\n",
              "\n",
              "    .dataframe thead th {\n",
              "        text-align: right;\n",
              "    }\n",
              "</style>\n",
              "<table border=\"1\" class=\"dataframe\">\n",
              "  <thead>\n",
              "    <tr style=\"text-align: right;\">\n",
              "      <th></th>\n",
              "      <th>TripType</th>\n",
              "      <th>VisitNumber</th>\n",
              "      <th>Upc</th>\n",
              "      <th>ScanCount</th>\n",
              "      <th>FinelineNumber</th>\n",
              "    </tr>\n",
              "  </thead>\n",
              "  <tbody>\n",
              "    <tr>\n",
              "      <th>count</th>\n",
              "      <td>453411.000000</td>\n",
              "      <td>453411.000000</td>\n",
              "      <td>4.505590e+05</td>\n",
              "      <td>453411.000000</td>\n",
              "      <td>450559.000000</td>\n",
              "    </tr>\n",
              "    <tr>\n",
              "      <th>mean</th>\n",
              "      <td>58.027039</td>\n",
              "      <td>95909.846115</td>\n",
              "      <td>3.075243e+10</td>\n",
              "      <td>1.108584</td>\n",
              "      <td>3727.366554</td>\n",
              "    </tr>\n",
              "    <tr>\n",
              "      <th>std</th>\n",
              "      <td>155.973370</td>\n",
              "      <td>55399.801147</td>\n",
              "      <td>9.163940e+10</td>\n",
              "      <td>0.707029</td>\n",
              "      <td>2779.958546</td>\n",
              "    </tr>\n",
              "    <tr>\n",
              "      <th>min</th>\n",
              "      <td>3.000000</td>\n",
              "      <td>5.000000</td>\n",
              "      <td>8.340000e+02</td>\n",
              "      <td>-10.000000</td>\n",
              "      <td>0.000000</td>\n",
              "    </tr>\n",
              "    <tr>\n",
              "      <th>25%</th>\n",
              "      <td>27.000000</td>\n",
              "      <td>49390.000000</td>\n",
              "      <td>3.400004e+09</td>\n",
              "      <td>1.000000</td>\n",
              "      <td>1404.000000</td>\n",
              "    </tr>\n",
              "    <tr>\n",
              "      <th>50%</th>\n",
              "      <td>39.000000</td>\n",
              "      <td>96781.000000</td>\n",
              "      <td>7.056082e+09</td>\n",
              "      <td>1.000000</td>\n",
              "      <td>3352.000000</td>\n",
              "    </tr>\n",
              "    <tr>\n",
              "      <th>75%</th>\n",
              "      <td>40.000000</td>\n",
              "      <td>143930.000000</td>\n",
              "      <td>3.013201e+10</td>\n",
              "      <td>1.000000</td>\n",
              "      <td>5501.000000</td>\n",
              "    </tr>\n",
              "    <tr>\n",
              "      <th>max</th>\n",
              "      <td>999.000000</td>\n",
              "      <td>191347.000000</td>\n",
              "      <td>9.789707e+11</td>\n",
              "      <td>71.000000</td>\n",
              "      <td>9998.000000</td>\n",
              "    </tr>\n",
              "  </tbody>\n",
              "</table>\n",
              "</div>"
            ],
            "text/plain": [
              "            TripType    VisitNumber  ...      ScanCount  FinelineNumber\n",
              "count  453411.000000  453411.000000  ...  453411.000000   450559.000000\n",
              "mean       58.027039   95909.846115  ...       1.108584     3727.366554\n",
              "std       155.973370   55399.801147  ...       0.707029     2779.958546\n",
              "min         3.000000       5.000000  ...     -10.000000        0.000000\n",
              "25%        27.000000   49390.000000  ...       1.000000     1404.000000\n",
              "50%        39.000000   96781.000000  ...       1.000000     3352.000000\n",
              "75%        40.000000  143930.000000  ...       1.000000     5501.000000\n",
              "max       999.000000  191347.000000  ...      71.000000     9998.000000\n",
              "\n",
              "[8 rows x 5 columns]"
            ]
          },
          "metadata": {
            "tags": []
          },
          "execution_count": 110
        }
      ]
    },
    {
      "cell_type": "code",
      "metadata": {
        "id": "JWWjXFNroSAg",
        "colab_type": "code",
        "colab": {
          "base_uri": "https://localhost:8080/",
          "height": 197
        },
        "outputId": "344527ae-2210-454f-fa28-935c884a9d47"
      },
      "source": [
        "original_df.head()"
      ],
      "execution_count": 111,
      "outputs": [
        {
          "output_type": "execute_result",
          "data": {
            "text/html": [
              "<div>\n",
              "<style scoped>\n",
              "    .dataframe tbody tr th:only-of-type {\n",
              "        vertical-align: middle;\n",
              "    }\n",
              "\n",
              "    .dataframe tbody tr th {\n",
              "        vertical-align: top;\n",
              "    }\n",
              "\n",
              "    .dataframe thead th {\n",
              "        text-align: right;\n",
              "    }\n",
              "</style>\n",
              "<table border=\"1\" class=\"dataframe\">\n",
              "  <thead>\n",
              "    <tr style=\"text-align: right;\">\n",
              "      <th></th>\n",
              "      <th>TripType</th>\n",
              "      <th>VisitNumber</th>\n",
              "      <th>Weekday</th>\n",
              "      <th>Upc</th>\n",
              "      <th>ScanCount</th>\n",
              "      <th>DepartmentDescription</th>\n",
              "      <th>FinelineNumber</th>\n",
              "    </tr>\n",
              "  </thead>\n",
              "  <tbody>\n",
              "    <tr>\n",
              "      <th>0</th>\n",
              "      <td>999</td>\n",
              "      <td>5</td>\n",
              "      <td>Friday</td>\n",
              "      <td>6.811315e+10</td>\n",
              "      <td>-1</td>\n",
              "      <td>FINANCIAL SERVICES</td>\n",
              "      <td>1000.0</td>\n",
              "    </tr>\n",
              "    <tr>\n",
              "      <th>1</th>\n",
              "      <td>8</td>\n",
              "      <td>9</td>\n",
              "      <td>Friday</td>\n",
              "      <td>1.070081e+09</td>\n",
              "      <td>1</td>\n",
              "      <td>IMPULSE MERCHANDISE</td>\n",
              "      <td>115.0</td>\n",
              "    </tr>\n",
              "    <tr>\n",
              "      <th>2</th>\n",
              "      <td>8</td>\n",
              "      <td>9</td>\n",
              "      <td>Friday</td>\n",
              "      <td>3.107000e+03</td>\n",
              "      <td>1</td>\n",
              "      <td>PRODUCE</td>\n",
              "      <td>103.0</td>\n",
              "    </tr>\n",
              "    <tr>\n",
              "      <th>3</th>\n",
              "      <td>8</td>\n",
              "      <td>9</td>\n",
              "      <td>Friday</td>\n",
              "      <td>4.011000e+03</td>\n",
              "      <td>1</td>\n",
              "      <td>PRODUCE</td>\n",
              "      <td>5501.0</td>\n",
              "    </tr>\n",
              "    <tr>\n",
              "      <th>4</th>\n",
              "      <td>8</td>\n",
              "      <td>10</td>\n",
              "      <td>Friday</td>\n",
              "      <td>6.414410e+09</td>\n",
              "      <td>1</td>\n",
              "      <td>DSD GROCERY</td>\n",
              "      <td>2008.0</td>\n",
              "    </tr>\n",
              "  </tbody>\n",
              "</table>\n",
              "</div>"
            ],
            "text/plain": [
              "   TripType  VisitNumber  ... DepartmentDescription  FinelineNumber\n",
              "0       999            5  ...    FINANCIAL SERVICES          1000.0\n",
              "1         8            9  ...   IMPULSE MERCHANDISE           115.0\n",
              "2         8            9  ...               PRODUCE           103.0\n",
              "3         8            9  ...               PRODUCE          5501.0\n",
              "4         8           10  ...           DSD GROCERY          2008.0\n",
              "\n",
              "[5 rows x 7 columns]"
            ]
          },
          "metadata": {
            "tags": []
          },
          "execution_count": 111
        }
      ]
    },
    {
      "cell_type": "code",
      "metadata": {
        "id": "GiIQISlLX31p",
        "colab_type": "code",
        "colab": {
          "base_uri": "https://localhost:8080/",
          "height": 406
        },
        "outputId": "41aa09d4-a5bf-496c-dcaf-72fa4af0dd37"
      },
      "source": [
        "original_df[original_df.DepartmentDescription=='JEWELRY AND SUNGLASSES']"
      ],
      "execution_count": 112,
      "outputs": [
        {
          "output_type": "execute_result",
          "data": {
            "text/html": [
              "<div>\n",
              "<style scoped>\n",
              "    .dataframe tbody tr th:only-of-type {\n",
              "        vertical-align: middle;\n",
              "    }\n",
              "\n",
              "    .dataframe tbody tr th {\n",
              "        vertical-align: top;\n",
              "    }\n",
              "\n",
              "    .dataframe thead th {\n",
              "        text-align: right;\n",
              "    }\n",
              "</style>\n",
              "<table border=\"1\" class=\"dataframe\">\n",
              "  <thead>\n",
              "    <tr style=\"text-align: right;\">\n",
              "      <th></th>\n",
              "      <th>TripType</th>\n",
              "      <th>VisitNumber</th>\n",
              "      <th>Weekday</th>\n",
              "      <th>Upc</th>\n",
              "      <th>ScanCount</th>\n",
              "      <th>DepartmentDescription</th>\n",
              "      <th>FinelineNumber</th>\n",
              "    </tr>\n",
              "  </thead>\n",
              "  <tbody>\n",
              "    <tr>\n",
              "      <th>370</th>\n",
              "      <td>40</td>\n",
              "      <td>287</td>\n",
              "      <td>Friday</td>\n",
              "      <td>7.278338e+10</td>\n",
              "      <td>1</td>\n",
              "      <td>JEWELRY AND SUNGLASSES</td>\n",
              "      <td>6802.0</td>\n",
              "    </tr>\n",
              "    <tr>\n",
              "      <th>446</th>\n",
              "      <td>36</td>\n",
              "      <td>326</td>\n",
              "      <td>Friday</td>\n",
              "      <td>7.379272e+10</td>\n",
              "      <td>1</td>\n",
              "      <td>JEWELRY AND SUNGLASSES</td>\n",
              "      <td>7095.0</td>\n",
              "    </tr>\n",
              "    <tr>\n",
              "      <th>452</th>\n",
              "      <td>999</td>\n",
              "      <td>333</td>\n",
              "      <td>Friday</td>\n",
              "      <td>6.565145e+10</td>\n",
              "      <td>1</td>\n",
              "      <td>JEWELRY AND SUNGLASSES</td>\n",
              "      <td>6812.0</td>\n",
              "    </tr>\n",
              "    <tr>\n",
              "      <th>453</th>\n",
              "      <td>999</td>\n",
              "      <td>333</td>\n",
              "      <td>Friday</td>\n",
              "      <td>6.565145e+10</td>\n",
              "      <td>-1</td>\n",
              "      <td>JEWELRY AND SUNGLASSES</td>\n",
              "      <td>6812.0</td>\n",
              "    </tr>\n",
              "    <tr>\n",
              "      <th>773</th>\n",
              "      <td>42</td>\n",
              "      <td>513</td>\n",
              "      <td>Friday</td>\n",
              "      <td>6.115665e+10</td>\n",
              "      <td>1</td>\n",
              "      <td>JEWELRY AND SUNGLASSES</td>\n",
              "      <td>556.0</td>\n",
              "    </tr>\n",
              "    <tr>\n",
              "      <th>...</th>\n",
              "      <td>...</td>\n",
              "      <td>...</td>\n",
              "      <td>...</td>\n",
              "      <td>...</td>\n",
              "      <td>...</td>\n",
              "      <td>...</td>\n",
              "      <td>...</td>\n",
              "    </tr>\n",
              "    <tr>\n",
              "      <th>451594</th>\n",
              "      <td>41</td>\n",
              "      <td>190758</td>\n",
              "      <td>Sunday</td>\n",
              "      <td>8.817760e+10</td>\n",
              "      <td>1</td>\n",
              "      <td>JEWELRY AND SUNGLASSES</td>\n",
              "      <td>38.0</td>\n",
              "    </tr>\n",
              "    <tr>\n",
              "      <th>451714</th>\n",
              "      <td>41</td>\n",
              "      <td>190799</td>\n",
              "      <td>Sunday</td>\n",
              "      <td>8.859986e+10</td>\n",
              "      <td>1</td>\n",
              "      <td>JEWELRY AND SUNGLASSES</td>\n",
              "      <td>6409.0</td>\n",
              "    </tr>\n",
              "    <tr>\n",
              "      <th>452242</th>\n",
              "      <td>9</td>\n",
              "      <td>190964</td>\n",
              "      <td>Sunday</td>\n",
              "      <td>8.876617e+10</td>\n",
              "      <td>1</td>\n",
              "      <td>JEWELRY AND SUNGLASSES</td>\n",
              "      <td>4108.0</td>\n",
              "    </tr>\n",
              "    <tr>\n",
              "      <th>452718</th>\n",
              "      <td>9</td>\n",
              "      <td>191121</td>\n",
              "      <td>Sunday</td>\n",
              "      <td>7.268986e+10</td>\n",
              "      <td>1</td>\n",
              "      <td>JEWELRY AND SUNGLASSES</td>\n",
              "      <td>6602.0</td>\n",
              "    </tr>\n",
              "    <tr>\n",
              "      <th>453189</th>\n",
              "      <td>21</td>\n",
              "      <td>191276</td>\n",
              "      <td>Sunday</td>\n",
              "      <td>7.278339e+10</td>\n",
              "      <td>1</td>\n",
              "      <td>JEWELRY AND SUNGLASSES</td>\n",
              "      <td>570.0</td>\n",
              "    </tr>\n",
              "  </tbody>\n",
              "</table>\n",
              "<p>1784 rows × 7 columns</p>\n",
              "</div>"
            ],
            "text/plain": [
              "        TripType  VisitNumber  ...   DepartmentDescription  FinelineNumber\n",
              "370           40          287  ...  JEWELRY AND SUNGLASSES          6802.0\n",
              "446           36          326  ...  JEWELRY AND SUNGLASSES          7095.0\n",
              "452          999          333  ...  JEWELRY AND SUNGLASSES          6812.0\n",
              "453          999          333  ...  JEWELRY AND SUNGLASSES          6812.0\n",
              "773           42          513  ...  JEWELRY AND SUNGLASSES           556.0\n",
              "...          ...          ...  ...                     ...             ...\n",
              "451594        41       190758  ...  JEWELRY AND SUNGLASSES            38.0\n",
              "451714        41       190799  ...  JEWELRY AND SUNGLASSES          6409.0\n",
              "452242         9       190964  ...  JEWELRY AND SUNGLASSES          4108.0\n",
              "452718         9       191121  ...  JEWELRY AND SUNGLASSES          6602.0\n",
              "453189        21       191276  ...  JEWELRY AND SUNGLASSES           570.0\n",
              "\n",
              "[1784 rows x 7 columns]"
            ]
          },
          "metadata": {
            "tags": []
          },
          "execution_count": 112
        }
      ]
    },
    {
      "cell_type": "markdown",
      "metadata": {
        "id": "NBzofi8PoSAk",
        "colab_type": "text"
      },
      "source": [
        "Looking into the columns values..."
      ]
    },
    {
      "cell_type": "code",
      "metadata": {
        "id": "fZlEOXYCoSAl",
        "colab_type": "code",
        "colab": {
          "base_uri": "https://localhost:8080/",
          "height": 34
        },
        "outputId": "2c6eb6f8-a9c5-4576-a1fa-15f0165586f0"
      },
      "source": [
        "set(original_df.Weekday)"
      ],
      "execution_count": 113,
      "outputs": [
        {
          "output_type": "execute_result",
          "data": {
            "text/plain": [
              "{'Friday', 'Monday', 'Saturday', 'Sunday', 'Thursday', 'Tuesday', 'Wednesday'}"
            ]
          },
          "metadata": {
            "tags": []
          },
          "execution_count": 113
        }
      ]
    },
    {
      "cell_type": "code",
      "metadata": {
        "id": "Jo8z1o1y44Ux",
        "colab_type": "code",
        "colab": {
          "base_uri": "https://localhost:8080/",
          "height": 34
        },
        "outputId": "fe7b3c64-d5cc-44ff-8ee7-095d0843b2b8"
      },
      "source": [
        "original_df.DepartmentDescription.unique().size"
      ],
      "execution_count": 114,
      "outputs": [
        {
          "output_type": "execute_result",
          "data": {
            "text/plain": [
              "69"
            ]
          },
          "metadata": {
            "tags": []
          },
          "execution_count": 114
        }
      ]
    },
    {
      "cell_type": "code",
      "metadata": {
        "id": "D54ibf9c8RX8",
        "colab_type": "code",
        "colab": {
          "base_uri": "https://localhost:8080/",
          "height": 34
        },
        "outputId": "aaa19613-c0a6-4c3c-af66-2f3c8de317d9"
      },
      "source": [
        "original_df.Upc.unique().size"
      ],
      "execution_count": 115,
      "outputs": [
        {
          "output_type": "execute_result",
          "data": {
            "text/plain": [
              "84492"
            ]
          },
          "metadata": {
            "tags": []
          },
          "execution_count": 115
        }
      ]
    },
    {
      "cell_type": "code",
      "metadata": {
        "id": "sejybV3065e4",
        "colab_type": "code",
        "colab": {
          "base_uri": "https://localhost:8080/",
          "height": 34
        },
        "outputId": "34436548-9332-4fda-ed40-5bd7f895bb77"
      },
      "source": [
        "original_df.FinelineNumber.unique().size"
      ],
      "execution_count": 116,
      "outputs": [
        {
          "output_type": "execute_result",
          "data": {
            "text/plain": [
              "5106"
            ]
          },
          "metadata": {
            "tags": []
          },
          "execution_count": 116
        }
      ]
    },
    {
      "cell_type": "code",
      "metadata": {
        "id": "ACP0xi2soSAq",
        "colab_type": "code",
        "colab": {
          "base_uri": "https://localhost:8080/",
          "height": 1000
        },
        "outputId": "282d52e9-de9e-445b-f24f-b0404d9a6ba6"
      },
      "source": [
        "set(original_df.DepartmentDescription)"
      ],
      "execution_count": 117,
      "outputs": [
        {
          "output_type": "execute_result",
          "data": {
            "text/plain": [
              "{'1-HR PHOTO',\n",
              " 'ACCESSORIES',\n",
              " 'AUTOMOTIVE',\n",
              " 'BAKERY',\n",
              " 'BATH AND SHOWER',\n",
              " 'BEAUTY',\n",
              " 'BEDDING',\n",
              " 'BOOKS AND MAGAZINES',\n",
              " 'BOYS WEAR',\n",
              " 'BRAS & SHAPEWEAR',\n",
              " 'CAMERAS AND SUPPLIES',\n",
              " 'CANDY, TOBACCO, COOKIES',\n",
              " 'CELEBRATION',\n",
              " 'COMM BREAD',\n",
              " 'CONCEPT STORES',\n",
              " 'COOK AND DINE',\n",
              " 'DAIRY',\n",
              " 'DSD GROCERY',\n",
              " 'ELECTRONICS',\n",
              " 'FABRICS AND CRAFTS',\n",
              " 'FINANCIAL SERVICES',\n",
              " 'FROZEN FOODS',\n",
              " 'FURNITURE',\n",
              " 'GIRLS WEAR, 4-6X  AND 7-14',\n",
              " 'GROCERY DRY GOODS',\n",
              " 'HARDWARE',\n",
              " 'HEALTH AND BEAUTY AIDS',\n",
              " 'HOME DECOR',\n",
              " 'HOME MANAGEMENT',\n",
              " 'HORTICULTURE AND ACCESS',\n",
              " 'HOUSEHOLD CHEMICALS/SUPP',\n",
              " 'HOUSEHOLD PAPER GOODS',\n",
              " 'IMPULSE MERCHANDISE',\n",
              " 'INFANT APPAREL',\n",
              " 'INFANT CONSUMABLE HARDLINES',\n",
              " 'JEWELRY AND SUNGLASSES',\n",
              " 'LADIES SOCKS',\n",
              " 'LADIESWEAR',\n",
              " 'LARGE HOUSEHOLD GOODS',\n",
              " 'LAWN AND GARDEN',\n",
              " 'LIQUOR,WINE,BEER',\n",
              " 'MEAT - FRESH & FROZEN',\n",
              " 'MEDIA AND GAMING',\n",
              " 'MENS WEAR',\n",
              " 'MENSWEAR',\n",
              " 'OFFICE SUPPLIES',\n",
              " 'OPTICAL - FRAMES',\n",
              " 'OPTICAL - LENSES',\n",
              " 'OTHER DEPARTMENTS',\n",
              " 'PAINT AND ACCESSORIES',\n",
              " 'PERSONAL CARE',\n",
              " 'PETS AND SUPPLIES',\n",
              " 'PHARMACY OTC',\n",
              " 'PHARMACY RX',\n",
              " 'PLAYERS AND ELECTRONICS',\n",
              " 'PLUS AND MATERNITY',\n",
              " 'PRE PACKED DELI',\n",
              " 'PRODUCE',\n",
              " 'SEAFOOD',\n",
              " 'SEASONAL',\n",
              " 'SERVICE DELI',\n",
              " 'SHEER HOSIERY',\n",
              " 'SHOES',\n",
              " 'SLEEPWEAR/FOUNDATIONS',\n",
              " 'SPORTING GOODS',\n",
              " 'SWIMWEAR/OUTERWEAR',\n",
              " 'TOYS',\n",
              " 'WIRELESS',\n",
              " nan}"
            ]
          },
          "metadata": {
            "tags": []
          },
          "execution_count": 117
        }
      ]
    },
    {
      "cell_type": "markdown",
      "metadata": {
        "id": "56p3z7LRoSAv",
        "colab_type": "text"
      },
      "source": [
        "**There** are `nan`s in the column, let us find them..."
      ]
    },
    {
      "cell_type": "code",
      "metadata": {
        "id": "AvrSrzAnoSAv",
        "colab_type": "code",
        "colab": {
          "base_uri": "https://localhost:8080/",
          "height": 406
        },
        "outputId": "7c306561-4a33-4963-e55b-be2e898c6c8b"
      },
      "source": [
        "original_df[original_df.DepartmentDescription.isna()]"
      ],
      "execution_count": 118,
      "outputs": [
        {
          "output_type": "execute_result",
          "data": {
            "text/html": [
              "<div>\n",
              "<style scoped>\n",
              "    .dataframe tbody tr th:only-of-type {\n",
              "        vertical-align: middle;\n",
              "    }\n",
              "\n",
              "    .dataframe tbody tr th {\n",
              "        vertical-align: top;\n",
              "    }\n",
              "\n",
              "    .dataframe thead th {\n",
              "        text-align: right;\n",
              "    }\n",
              "</style>\n",
              "<table border=\"1\" class=\"dataframe\">\n",
              "  <thead>\n",
              "    <tr style=\"text-align: right;\">\n",
              "      <th></th>\n",
              "      <th>TripType</th>\n",
              "      <th>VisitNumber</th>\n",
              "      <th>Weekday</th>\n",
              "      <th>Upc</th>\n",
              "      <th>ScanCount</th>\n",
              "      <th>DepartmentDescription</th>\n",
              "      <th>FinelineNumber</th>\n",
              "    </tr>\n",
              "  </thead>\n",
              "  <tbody>\n",
              "    <tr>\n",
              "      <th>739</th>\n",
              "      <td>999</td>\n",
              "      <td>484</td>\n",
              "      <td>Friday</td>\n",
              "      <td>NaN</td>\n",
              "      <td>-2</td>\n",
              "      <td>NaN</td>\n",
              "      <td>NaN</td>\n",
              "    </tr>\n",
              "    <tr>\n",
              "      <th>740</th>\n",
              "      <td>999</td>\n",
              "      <td>484</td>\n",
              "      <td>Friday</td>\n",
              "      <td>NaN</td>\n",
              "      <td>-2</td>\n",
              "      <td>NaN</td>\n",
              "      <td>NaN</td>\n",
              "    </tr>\n",
              "    <tr>\n",
              "      <th>1292</th>\n",
              "      <td>32</td>\n",
              "      <td>845</td>\n",
              "      <td>Friday</td>\n",
              "      <td>NaN</td>\n",
              "      <td>1</td>\n",
              "      <td>NaN</td>\n",
              "      <td>NaN</td>\n",
              "    </tr>\n",
              "    <tr>\n",
              "      <th>1293</th>\n",
              "      <td>32</td>\n",
              "      <td>845</td>\n",
              "      <td>Friday</td>\n",
              "      <td>NaN</td>\n",
              "      <td>1</td>\n",
              "      <td>NaN</td>\n",
              "      <td>NaN</td>\n",
              "    </tr>\n",
              "    <tr>\n",
              "      <th>1577</th>\n",
              "      <td>40</td>\n",
              "      <td>1004</td>\n",
              "      <td>Friday</td>\n",
              "      <td>NaN</td>\n",
              "      <td>1</td>\n",
              "      <td>NaN</td>\n",
              "      <td>NaN</td>\n",
              "    </tr>\n",
              "    <tr>\n",
              "      <th>...</th>\n",
              "      <td>...</td>\n",
              "      <td>...</td>\n",
              "      <td>...</td>\n",
              "      <td>...</td>\n",
              "      <td>...</td>\n",
              "      <td>...</td>\n",
              "      <td>...</td>\n",
              "    </tr>\n",
              "    <tr>\n",
              "      <th>449840</th>\n",
              "      <td>40</td>\n",
              "      <td>190133</td>\n",
              "      <td>Sunday</td>\n",
              "      <td>NaN</td>\n",
              "      <td>1</td>\n",
              "      <td>NaN</td>\n",
              "      <td>NaN</td>\n",
              "    </tr>\n",
              "    <tr>\n",
              "      <th>450036</th>\n",
              "      <td>999</td>\n",
              "      <td>190182</td>\n",
              "      <td>Sunday</td>\n",
              "      <td>NaN</td>\n",
              "      <td>-1</td>\n",
              "      <td>NaN</td>\n",
              "      <td>NaN</td>\n",
              "    </tr>\n",
              "    <tr>\n",
              "      <th>450163</th>\n",
              "      <td>40</td>\n",
              "      <td>190230</td>\n",
              "      <td>Sunday</td>\n",
              "      <td>NaN</td>\n",
              "      <td>1</td>\n",
              "      <td>NaN</td>\n",
              "      <td>NaN</td>\n",
              "    </tr>\n",
              "    <tr>\n",
              "      <th>450361</th>\n",
              "      <td>39</td>\n",
              "      <td>190309</td>\n",
              "      <td>Sunday</td>\n",
              "      <td>NaN</td>\n",
              "      <td>1</td>\n",
              "      <td>NaN</td>\n",
              "      <td>NaN</td>\n",
              "    </tr>\n",
              "    <tr>\n",
              "      <th>450595</th>\n",
              "      <td>41</td>\n",
              "      <td>190408</td>\n",
              "      <td>Sunday</td>\n",
              "      <td>NaN</td>\n",
              "      <td>1</td>\n",
              "      <td>NaN</td>\n",
              "      <td>NaN</td>\n",
              "    </tr>\n",
              "  </tbody>\n",
              "</table>\n",
              "<p>972 rows × 7 columns</p>\n",
              "</div>"
            ],
            "text/plain": [
              "        TripType  VisitNumber  ... DepartmentDescription  FinelineNumber\n",
              "739          999          484  ...                   NaN             NaN\n",
              "740          999          484  ...                   NaN             NaN\n",
              "1292          32          845  ...                   NaN             NaN\n",
              "1293          32          845  ...                   NaN             NaN\n",
              "1577          40         1004  ...                   NaN             NaN\n",
              "...          ...          ...  ...                   ...             ...\n",
              "449840        40       190133  ...                   NaN             NaN\n",
              "450036       999       190182  ...                   NaN             NaN\n",
              "450163        40       190230  ...                   NaN             NaN\n",
              "450361        39       190309  ...                   NaN             NaN\n",
              "450595        41       190408  ...                   NaN             NaN\n",
              "\n",
              "[972 rows x 7 columns]"
            ]
          },
          "metadata": {
            "tags": []
          },
          "execution_count": 118
        }
      ]
    },
    {
      "cell_type": "markdown",
      "metadata": {
        "hideCode": true,
        "id": "JePo8Y5toSAz",
        "colab_type": "text"
      },
      "source": [
        "When the description is NaN, then the Upc and FinelineNumber are both NaN?"
      ]
    },
    {
      "cell_type": "code",
      "metadata": {
        "id": "6_EmlVICoSA0",
        "colab_type": "code",
        "colab": {
          "base_uri": "https://localhost:8080/",
          "height": 34
        },
        "outputId": "4195b903-f8b5-41d7-d963-1689c28bb060"
      },
      "source": [
        "(original_df.DepartmentDescription.isna().sum(),\n",
        " (original_df.DepartmentDescription.isna() & original_df.Upc.isna() & original_df.FinelineNumber.isna()).sum())"
      ],
      "execution_count": 119,
      "outputs": [
        {
          "output_type": "execute_result",
          "data": {
            "text/plain": [
              "(972, 972)"
            ]
          },
          "metadata": {
            "tags": []
          },
          "execution_count": 119
        }
      ]
    },
    {
      "cell_type": "code",
      "metadata": {
        "id": "21S42MlRoSA3",
        "colab_type": "code",
        "colab": {
          "base_uri": "https://localhost:8080/",
          "height": 197
        },
        "outputId": "23381322-005f-4236-8432-0e8e66c52752"
      },
      "source": [
        "original_df[original_df.Upc.isna()].sample(5)"
      ],
      "execution_count": 120,
      "outputs": [
        {
          "output_type": "execute_result",
          "data": {
            "text/html": [
              "<div>\n",
              "<style scoped>\n",
              "    .dataframe tbody tr th:only-of-type {\n",
              "        vertical-align: middle;\n",
              "    }\n",
              "\n",
              "    .dataframe tbody tr th {\n",
              "        vertical-align: top;\n",
              "    }\n",
              "\n",
              "    .dataframe thead th {\n",
              "        text-align: right;\n",
              "    }\n",
              "</style>\n",
              "<table border=\"1\" class=\"dataframe\">\n",
              "  <thead>\n",
              "    <tr style=\"text-align: right;\">\n",
              "      <th></th>\n",
              "      <th>TripType</th>\n",
              "      <th>VisitNumber</th>\n",
              "      <th>Weekday</th>\n",
              "      <th>Upc</th>\n",
              "      <th>ScanCount</th>\n",
              "      <th>DepartmentDescription</th>\n",
              "      <th>FinelineNumber</th>\n",
              "    </tr>\n",
              "  </thead>\n",
              "  <tbody>\n",
              "    <tr>\n",
              "      <th>77859</th>\n",
              "      <td>5</td>\n",
              "      <td>32574</td>\n",
              "      <td>Wednesday</td>\n",
              "      <td>NaN</td>\n",
              "      <td>1</td>\n",
              "      <td>PHARMACY RX</td>\n",
              "      <td>NaN</td>\n",
              "    </tr>\n",
              "    <tr>\n",
              "      <th>286598</th>\n",
              "      <td>38</td>\n",
              "      <td>120598</td>\n",
              "      <td>Wednesday</td>\n",
              "      <td>NaN</td>\n",
              "      <td>1</td>\n",
              "      <td>NaN</td>\n",
              "      <td>NaN</td>\n",
              "    </tr>\n",
              "    <tr>\n",
              "      <th>117442</th>\n",
              "      <td>5</td>\n",
              "      <td>50916</td>\n",
              "      <td>Saturday</td>\n",
              "      <td>NaN</td>\n",
              "      <td>1</td>\n",
              "      <td>PHARMACY RX</td>\n",
              "      <td>NaN</td>\n",
              "    </tr>\n",
              "    <tr>\n",
              "      <th>168770</th>\n",
              "      <td>5</td>\n",
              "      <td>71001</td>\n",
              "      <td>Tuesday</td>\n",
              "      <td>NaN</td>\n",
              "      <td>1</td>\n",
              "      <td>PHARMACY RX</td>\n",
              "      <td>NaN</td>\n",
              "    </tr>\n",
              "    <tr>\n",
              "      <th>168245</th>\n",
              "      <td>5</td>\n",
              "      <td>70675</td>\n",
              "      <td>Tuesday</td>\n",
              "      <td>NaN</td>\n",
              "      <td>1</td>\n",
              "      <td>PHARMACY RX</td>\n",
              "      <td>NaN</td>\n",
              "    </tr>\n",
              "  </tbody>\n",
              "</table>\n",
              "</div>"
            ],
            "text/plain": [
              "        TripType  VisitNumber  ... DepartmentDescription  FinelineNumber\n",
              "77859          5        32574  ...           PHARMACY RX             NaN\n",
              "286598        38       120598  ...                   NaN             NaN\n",
              "117442         5        50916  ...           PHARMACY RX             NaN\n",
              "168770         5        71001  ...           PHARMACY RX             NaN\n",
              "168245         5        70675  ...           PHARMACY RX             NaN\n",
              "\n",
              "[5 rows x 7 columns]"
            ]
          },
          "metadata": {
            "tags": []
          },
          "execution_count": 120
        }
      ]
    },
    {
      "cell_type": "code",
      "metadata": {
        "id": "_FW1LXEI096S",
        "colab_type": "code",
        "colab": {
          "base_uri": "https://localhost:8080/",
          "height": 34
        },
        "outputId": "ae117e10-3e52-44a4-9251-e7d5713dcf18"
      },
      "source": [
        "#Peso de los valores nulos de UPC en el dataset\n",
        "original_df.Upc.isna().sum()/original_df.TripType.sum()"
      ],
      "execution_count": 121,
      "outputs": [
        {
          "output_type": "execute_result",
          "data": {
            "text/plain": [
              "0.00010839944419819341"
            ]
          },
          "metadata": {
            "tags": []
          },
          "execution_count": 121
        }
      ]
    },
    {
      "cell_type": "markdown",
      "metadata": {
        "id": "tmREtsv-oSA7",
        "colab_type": "text"
      },
      "source": [
        "\n",
        "But it may be the case that Upc is NaN but not the description..."
      ]
    },
    {
      "cell_type": "code",
      "metadata": {
        "id": "dByitQFVoSA9",
        "colab_type": "code",
        "colab": {
          "base_uri": "https://localhost:8080/",
          "height": 34
        },
        "outputId": "830e0aaf-4107-41ee-ed38-bc32352c7a7d"
      },
      "source": [
        "(original_df.Upc.isna().sum(),\n",
        " original_df.FinelineNumber.isna().sum(),\n",
        " (original_df.FinelineNumber.isna() & original_df.Upc.isna()).sum())"
      ],
      "execution_count": 122,
      "outputs": [
        {
          "output_type": "execute_result",
          "data": {
            "text/plain": [
              "(2852, 2852, 2852)"
            ]
          },
          "metadata": {
            "tags": []
          },
          "execution_count": 122
        }
      ]
    },
    {
      "cell_type": "code",
      "metadata": {
        "id": "nnmDeASzn36o",
        "colab_type": "code",
        "colab": {
          "base_uri": "https://localhost:8080/",
          "height": 317
        },
        "outputId": "00c2bcfd-e7e0-4644-97d1-73bf62bafbf5"
      },
      "source": [
        "original_df[(original_df.FinelineNumber.isna()==False)&(original_df.DepartmentDescription=='PHARMACY RX')].groupby(by=['TripType','FinelineNumber']).count()"
      ],
      "execution_count": 123,
      "outputs": [
        {
          "output_type": "execute_result",
          "data": {
            "text/html": [
              "<div>\n",
              "<style scoped>\n",
              "    .dataframe tbody tr th:only-of-type {\n",
              "        vertical-align: middle;\n",
              "    }\n",
              "\n",
              "    .dataframe tbody tr th {\n",
              "        vertical-align: top;\n",
              "    }\n",
              "\n",
              "    .dataframe thead th {\n",
              "        text-align: right;\n",
              "    }\n",
              "</style>\n",
              "<table border=\"1\" class=\"dataframe\">\n",
              "  <thead>\n",
              "    <tr style=\"text-align: right;\">\n",
              "      <th></th>\n",
              "      <th></th>\n",
              "      <th>VisitNumber</th>\n",
              "      <th>Weekday</th>\n",
              "      <th>Upc</th>\n",
              "      <th>ScanCount</th>\n",
              "      <th>DepartmentDescription</th>\n",
              "    </tr>\n",
              "    <tr>\n",
              "      <th>TripType</th>\n",
              "      <th>FinelineNumber</th>\n",
              "      <th></th>\n",
              "      <th></th>\n",
              "      <th></th>\n",
              "      <th></th>\n",
              "      <th></th>\n",
              "    </tr>\n",
              "  </thead>\n",
              "  <tbody>\n",
              "    <tr>\n",
              "      <th rowspan=\"4\" valign=\"top\">5</th>\n",
              "      <th>1335.0</th>\n",
              "      <td>4</td>\n",
              "      <td>4</td>\n",
              "      <td>4</td>\n",
              "      <td>4</td>\n",
              "      <td>4</td>\n",
              "    </tr>\n",
              "    <tr>\n",
              "      <th>1336.0</th>\n",
              "      <td>1</td>\n",
              "      <td>1</td>\n",
              "      <td>1</td>\n",
              "      <td>1</td>\n",
              "      <td>1</td>\n",
              "    </tr>\n",
              "    <tr>\n",
              "      <th>4822.0</th>\n",
              "      <td>62</td>\n",
              "      <td>62</td>\n",
              "      <td>62</td>\n",
              "      <td>62</td>\n",
              "      <td>62</td>\n",
              "    </tr>\n",
              "    <tr>\n",
              "      <th>5615.0</th>\n",
              "      <td>43</td>\n",
              "      <td>43</td>\n",
              "      <td>43</td>\n",
              "      <td>43</td>\n",
              "      <td>43</td>\n",
              "    </tr>\n",
              "    <tr>\n",
              "      <th>34</th>\n",
              "      <th>5615.0</th>\n",
              "      <td>1</td>\n",
              "      <td>1</td>\n",
              "      <td>1</td>\n",
              "      <td>1</td>\n",
              "      <td>1</td>\n",
              "    </tr>\n",
              "    <tr>\n",
              "      <th>39</th>\n",
              "      <th>5615.0</th>\n",
              "      <td>1</td>\n",
              "      <td>1</td>\n",
              "      <td>1</td>\n",
              "      <td>1</td>\n",
              "      <td>1</td>\n",
              "    </tr>\n",
              "    <tr>\n",
              "      <th rowspan=\"2\" valign=\"top\">999</th>\n",
              "      <th>4822.0</th>\n",
              "      <td>2</td>\n",
              "      <td>2</td>\n",
              "      <td>2</td>\n",
              "      <td>2</td>\n",
              "      <td>2</td>\n",
              "    </tr>\n",
              "    <tr>\n",
              "      <th>5615.0</th>\n",
              "      <td>2</td>\n",
              "      <td>2</td>\n",
              "      <td>2</td>\n",
              "      <td>2</td>\n",
              "      <td>2</td>\n",
              "    </tr>\n",
              "  </tbody>\n",
              "</table>\n",
              "</div>"
            ],
            "text/plain": [
              "                         VisitNumber  Weekday  ...  ScanCount  DepartmentDescription\n",
              "TripType FinelineNumber                        ...                                  \n",
              "5        1335.0                    4        4  ...          4                      4\n",
              "         1336.0                    1        1  ...          1                      1\n",
              "         4822.0                   62       62  ...         62                     62\n",
              "         5615.0                   43       43  ...         43                     43\n",
              "34       5615.0                    1        1  ...          1                      1\n",
              "39       5615.0                    1        1  ...          1                      1\n",
              "999      4822.0                    2        2  ...          2                      2\n",
              "         5615.0                    2        2  ...          2                      2\n",
              "\n",
              "[8 rows x 5 columns]"
            ]
          },
          "metadata": {
            "tags": []
          },
          "execution_count": 123
        }
      ]
    },
    {
      "cell_type": "code",
      "metadata": {
        "id": "4qy4zEAsqusY",
        "colab_type": "code",
        "colab": {
          "base_uri": "https://localhost:8080/",
          "height": 587
        },
        "outputId": "7a748157-d7d8-4ef2-cac9-bf10886ed92a"
      },
      "source": [
        "with pd.option_context('display.max_rows', None):\n",
        "    display(original_df[original_df.DepartmentDescription == 'PHARMACY RX'].groupby(by=['TripType','DepartmentDescription'])[['DepartmentDescription']].count())"
      ],
      "execution_count": 124,
      "outputs": [
        {
          "output_type": "display_data",
          "data": {
            "text/html": [
              "<div>\n",
              "<style scoped>\n",
              "    .dataframe tbody tr th:only-of-type {\n",
              "        vertical-align: middle;\n",
              "    }\n",
              "\n",
              "    .dataframe tbody tr th {\n",
              "        vertical-align: top;\n",
              "    }\n",
              "\n",
              "    .dataframe thead th {\n",
              "        text-align: right;\n",
              "    }\n",
              "</style>\n",
              "<table border=\"1\" class=\"dataframe\">\n",
              "  <thead>\n",
              "    <tr style=\"text-align: right;\">\n",
              "      <th></th>\n",
              "      <th></th>\n",
              "      <th>DepartmentDescription</th>\n",
              "    </tr>\n",
              "    <tr>\n",
              "      <th>TripType</th>\n",
              "      <th>DepartmentDescription</th>\n",
              "      <th></th>\n",
              "    </tr>\n",
              "  </thead>\n",
              "  <tbody>\n",
              "    <tr>\n",
              "      <th>4</th>\n",
              "      <th>PHARMACY RX</th>\n",
              "      <td>3</td>\n",
              "    </tr>\n",
              "    <tr>\n",
              "      <th>5</th>\n",
              "      <th>PHARMACY RX</th>\n",
              "      <td>1856</td>\n",
              "    </tr>\n",
              "    <tr>\n",
              "      <th>7</th>\n",
              "      <th>PHARMACY RX</th>\n",
              "      <td>2</td>\n",
              "    </tr>\n",
              "    <tr>\n",
              "      <th>8</th>\n",
              "      <th>PHARMACY RX</th>\n",
              "      <td>4</td>\n",
              "    </tr>\n",
              "    <tr>\n",
              "      <th>9</th>\n",
              "      <th>PHARMACY RX</th>\n",
              "      <td>2</td>\n",
              "    </tr>\n",
              "    <tr>\n",
              "      <th>20</th>\n",
              "      <th>PHARMACY RX</th>\n",
              "      <td>1</td>\n",
              "    </tr>\n",
              "    <tr>\n",
              "      <th>25</th>\n",
              "      <th>PHARMACY RX</th>\n",
              "      <td>5</td>\n",
              "    </tr>\n",
              "    <tr>\n",
              "      <th>27</th>\n",
              "      <th>PHARMACY RX</th>\n",
              "      <td>1</td>\n",
              "    </tr>\n",
              "    <tr>\n",
              "      <th>34</th>\n",
              "      <th>PHARMACY RX</th>\n",
              "      <td>2</td>\n",
              "    </tr>\n",
              "    <tr>\n",
              "      <th>36</th>\n",
              "      <th>PHARMACY RX</th>\n",
              "      <td>21</td>\n",
              "    </tr>\n",
              "    <tr>\n",
              "      <th>38</th>\n",
              "      <th>PHARMACY RX</th>\n",
              "      <td>2</td>\n",
              "    </tr>\n",
              "    <tr>\n",
              "      <th>39</th>\n",
              "      <th>PHARMACY RX</th>\n",
              "      <td>11</td>\n",
              "    </tr>\n",
              "    <tr>\n",
              "      <th>40</th>\n",
              "      <th>PHARMACY RX</th>\n",
              "      <td>2</td>\n",
              "    </tr>\n",
              "    <tr>\n",
              "      <th>42</th>\n",
              "      <th>PHARMACY RX</th>\n",
              "      <td>1</td>\n",
              "    </tr>\n",
              "    <tr>\n",
              "      <th>43</th>\n",
              "      <th>PHARMACY RX</th>\n",
              "      <td>15</td>\n",
              "    </tr>\n",
              "    <tr>\n",
              "      <th>44</th>\n",
              "      <th>PHARMACY RX</th>\n",
              "      <td>2</td>\n",
              "    </tr>\n",
              "    <tr>\n",
              "      <th>999</th>\n",
              "      <th>PHARMACY RX</th>\n",
              "      <td>66</td>\n",
              "    </tr>\n",
              "  </tbody>\n",
              "</table>\n",
              "</div>"
            ],
            "text/plain": [
              "                                DepartmentDescription\n",
              "TripType DepartmentDescription                       \n",
              "4        PHARMACY RX                                3\n",
              "5        PHARMACY RX                             1856\n",
              "7        PHARMACY RX                                2\n",
              "8        PHARMACY RX                                4\n",
              "9        PHARMACY RX                                2\n",
              "20       PHARMACY RX                                1\n",
              "25       PHARMACY RX                                5\n",
              "27       PHARMACY RX                                1\n",
              "34       PHARMACY RX                                2\n",
              "36       PHARMACY RX                               21\n",
              "38       PHARMACY RX                                2\n",
              "39       PHARMACY RX                               11\n",
              "40       PHARMACY RX                                2\n",
              "42       PHARMACY RX                                1\n",
              "43       PHARMACY RX                               15\n",
              "44       PHARMACY RX                                2\n",
              "999      PHARMACY RX                               66"
            ]
          },
          "metadata": {
            "tags": []
          }
        }
      ]
    },
    {
      "cell_type": "code",
      "metadata": {
        "id": "rU6kzF7ir60S",
        "colab_type": "code",
        "colab": {
          "base_uri": "https://localhost:8080/",
          "height": 158
        },
        "outputId": "eae45106-64c2-4dc7-f905-1ae3b65323d6"
      },
      "source": [
        " original_df[(original_df.FinelineNumber.isna())&(original_df.DepartmentDescription=='PHARMACY RX')].count()"
      ],
      "execution_count": 125,
      "outputs": [
        {
          "output_type": "execute_result",
          "data": {
            "text/plain": [
              "TripType                 1880\n",
              "VisitNumber              1880\n",
              "Weekday                  1880\n",
              "Upc                         0\n",
              "ScanCount                1880\n",
              "DepartmentDescription    1880\n",
              "FinelineNumber              0\n",
              "dtype: int64"
            ]
          },
          "metadata": {
            "tags": []
          },
          "execution_count": 125
        }
      ]
    },
    {
      "cell_type": "code",
      "metadata": {
        "id": "qfEBVPIGslyI",
        "colab_type": "code",
        "colab": {}
      },
      "source": [
        "df=original_df"
      ],
      "execution_count": 126,
      "outputs": []
    },
    {
      "cell_type": "code",
      "metadata": {
        "id": "ZO2FjCXjuFYs",
        "colab_type": "code",
        "colab": {
          "base_uri": "https://localhost:8080/",
          "height": 406
        },
        "outputId": "8e4ac74a-e05d-4ab2-c473-f1aead15bb8c"
      },
      "source": [
        "df[df.duplicated(keep=False)].sort_values(by='VisitNumber')"
      ],
      "execution_count": 127,
      "outputs": [
        {
          "output_type": "execute_result",
          "data": {
            "text/html": [
              "<div>\n",
              "<style scoped>\n",
              "    .dataframe tbody tr th:only-of-type {\n",
              "        vertical-align: middle;\n",
              "    }\n",
              "\n",
              "    .dataframe tbody tr th {\n",
              "        vertical-align: top;\n",
              "    }\n",
              "\n",
              "    .dataframe thead th {\n",
              "        text-align: right;\n",
              "    }\n",
              "</style>\n",
              "<table border=\"1\" class=\"dataframe\">\n",
              "  <thead>\n",
              "    <tr style=\"text-align: right;\">\n",
              "      <th></th>\n",
              "      <th>TripType</th>\n",
              "      <th>VisitNumber</th>\n",
              "      <th>Weekday</th>\n",
              "      <th>Upc</th>\n",
              "      <th>ScanCount</th>\n",
              "      <th>DepartmentDescription</th>\n",
              "      <th>FinelineNumber</th>\n",
              "    </tr>\n",
              "  </thead>\n",
              "  <tbody>\n",
              "    <tr>\n",
              "      <th>267</th>\n",
              "      <td>8</td>\n",
              "      <td>225</td>\n",
              "      <td>Friday</td>\n",
              "      <td>4.093000e+03</td>\n",
              "      <td>1</td>\n",
              "      <td>PRODUCE</td>\n",
              "      <td>4008.0</td>\n",
              "    </tr>\n",
              "    <tr>\n",
              "      <th>268</th>\n",
              "      <td>8</td>\n",
              "      <td>225</td>\n",
              "      <td>Friday</td>\n",
              "      <td>4.093000e+03</td>\n",
              "      <td>1</td>\n",
              "      <td>PRODUCE</td>\n",
              "      <td>4008.0</td>\n",
              "    </tr>\n",
              "    <tr>\n",
              "      <th>342</th>\n",
              "      <td>40</td>\n",
              "      <td>274</td>\n",
              "      <td>Friday</td>\n",
              "      <td>4.127197e+09</td>\n",
              "      <td>1</td>\n",
              "      <td>FROZEN FOODS</td>\n",
              "      <td>9100.0</td>\n",
              "    </tr>\n",
              "    <tr>\n",
              "      <th>350</th>\n",
              "      <td>40</td>\n",
              "      <td>274</td>\n",
              "      <td>Friday</td>\n",
              "      <td>4.127197e+09</td>\n",
              "      <td>1</td>\n",
              "      <td>FROZEN FOODS</td>\n",
              "      <td>9100.0</td>\n",
              "    </tr>\n",
              "    <tr>\n",
              "      <th>502</th>\n",
              "      <td>40</td>\n",
              "      <td>358</td>\n",
              "      <td>Friday</td>\n",
              "      <td>1.820011e+09</td>\n",
              "      <td>1</td>\n",
              "      <td>LIQUOR,WINE,BEER</td>\n",
              "      <td>105.0</td>\n",
              "    </tr>\n",
              "    <tr>\n",
              "      <th>...</th>\n",
              "      <td>...</td>\n",
              "      <td>...</td>\n",
              "      <td>...</td>\n",
              "      <td>...</td>\n",
              "      <td>...</td>\n",
              "      <td>...</td>\n",
              "      <td>...</td>\n",
              "    </tr>\n",
              "    <tr>\n",
              "      <th>452939</th>\n",
              "      <td>24</td>\n",
              "      <td>191177</td>\n",
              "      <td>Sunday</td>\n",
              "      <td>7.065200e+09</td>\n",
              "      <td>1</td>\n",
              "      <td>COOK AND DINE</td>\n",
              "      <td>905.0</td>\n",
              "    </tr>\n",
              "    <tr>\n",
              "      <th>453018</th>\n",
              "      <td>39</td>\n",
              "      <td>191190</td>\n",
              "      <td>Sunday</td>\n",
              "      <td>7.893138e+10</td>\n",
              "      <td>1</td>\n",
              "      <td>PETS AND SUPPLIES</td>\n",
              "      <td>6210.0</td>\n",
              "    </tr>\n",
              "    <tr>\n",
              "      <th>453029</th>\n",
              "      <td>39</td>\n",
              "      <td>191190</td>\n",
              "      <td>Sunday</td>\n",
              "      <td>7.893138e+10</td>\n",
              "      <td>1</td>\n",
              "      <td>PETS AND SUPPLIES</td>\n",
              "      <td>6210.0</td>\n",
              "    </tr>\n",
              "    <tr>\n",
              "      <th>453205</th>\n",
              "      <td>44</td>\n",
              "      <td>191277</td>\n",
              "      <td>Sunday</td>\n",
              "      <td>6.791453e+09</td>\n",
              "      <td>1</td>\n",
              "      <td>IMPULSE MERCHANDISE</td>\n",
              "      <td>347.0</td>\n",
              "    </tr>\n",
              "    <tr>\n",
              "      <th>453206</th>\n",
              "      <td>44</td>\n",
              "      <td>191277</td>\n",
              "      <td>Sunday</td>\n",
              "      <td>6.791453e+09</td>\n",
              "      <td>1</td>\n",
              "      <td>IMPULSE MERCHANDISE</td>\n",
              "      <td>347.0</td>\n",
              "    </tr>\n",
              "  </tbody>\n",
              "</table>\n",
              "<p>7400 rows × 7 columns</p>\n",
              "</div>"
            ],
            "text/plain": [
              "        TripType  VisitNumber  ... DepartmentDescription  FinelineNumber\n",
              "267            8          225  ...               PRODUCE          4008.0\n",
              "268            8          225  ...               PRODUCE          4008.0\n",
              "342           40          274  ...          FROZEN FOODS          9100.0\n",
              "350           40          274  ...          FROZEN FOODS          9100.0\n",
              "502           40          358  ...      LIQUOR,WINE,BEER           105.0\n",
              "...          ...          ...  ...                   ...             ...\n",
              "452939        24       191177  ...         COOK AND DINE           905.0\n",
              "453018        39       191190  ...     PETS AND SUPPLIES          6210.0\n",
              "453029        39       191190  ...     PETS AND SUPPLIES          6210.0\n",
              "453205        44       191277  ...   IMPULSE MERCHANDISE           347.0\n",
              "453206        44       191277  ...   IMPULSE MERCHANDISE           347.0\n",
              "\n",
              "[7400 rows x 7 columns]"
            ]
          },
          "metadata": {
            "tags": []
          },
          "execution_count": 127
        }
      ]
    },
    {
      "cell_type": "code",
      "metadata": {
        "id": "oOEt3KHl8iiJ",
        "colab_type": "code",
        "colab": {}
      },
      "source": [
        "mask = (original_df.FinelineNumber.isna())&(df.DepartmentDescription=='PHARMACY RX')\n",
        "column_name = 'FinelineNumber'\n",
        "original_df.loc[mask, column_name] = 4822.0"
      ],
      "execution_count": 128,
      "outputs": []
    },
    {
      "cell_type": "code",
      "metadata": {
        "id": "3w_KIi9_r39a",
        "colab_type": "code",
        "colab": {
          "base_uri": "https://localhost:8080/",
          "height": 47
        },
        "outputId": "16b11f86-36e9-400b-f627-e6913648551f"
      },
      "source": [
        " df[(df.FinelineNumber.isna())&(df.DepartmentDescription=='PHARMACY RX')]"
      ],
      "execution_count": 129,
      "outputs": [
        {
          "output_type": "execute_result",
          "data": {
            "text/html": [
              "<div>\n",
              "<style scoped>\n",
              "    .dataframe tbody tr th:only-of-type {\n",
              "        vertical-align: middle;\n",
              "    }\n",
              "\n",
              "    .dataframe tbody tr th {\n",
              "        vertical-align: top;\n",
              "    }\n",
              "\n",
              "    .dataframe thead th {\n",
              "        text-align: right;\n",
              "    }\n",
              "</style>\n",
              "<table border=\"1\" class=\"dataframe\">\n",
              "  <thead>\n",
              "    <tr style=\"text-align: right;\">\n",
              "      <th></th>\n",
              "      <th>TripType</th>\n",
              "      <th>VisitNumber</th>\n",
              "      <th>Weekday</th>\n",
              "      <th>Upc</th>\n",
              "      <th>ScanCount</th>\n",
              "      <th>DepartmentDescription</th>\n",
              "      <th>FinelineNumber</th>\n",
              "    </tr>\n",
              "  </thead>\n",
              "  <tbody>\n",
              "  </tbody>\n",
              "</table>\n",
              "</div>"
            ],
            "text/plain": [
              "Empty DataFrame\n",
              "Columns: [TripType, VisitNumber, Weekday, Upc, ScanCount, DepartmentDescription, FinelineNumber]\n",
              "Index: []"
            ]
          },
          "metadata": {
            "tags": []
          },
          "execution_count": 129
        }
      ]
    },
    {
      "cell_type": "markdown",
      "metadata": {
        "id": "FSVzXoaeoSBA",
        "colab_type": "text"
      },
      "source": [
        "Upc and FinelineNumber are both NaN at the same time"
      ]
    },
    {
      "cell_type": "markdown",
      "metadata": {
        "id": "VOMZMBRIoSBB",
        "colab_type": "text"
      },
      "source": [
        "Our last step in this analysis is to see how balanced is the data..."
      ]
    },
    {
      "cell_type": "code",
      "metadata": {
        "id": "yxVrnwrooSBC",
        "colab_type": "code",
        "colab": {}
      },
      "source": [
        "bins = set(original_df.TripType)"
      ],
      "execution_count": 130,
      "outputs": []
    },
    {
      "cell_type": "code",
      "metadata": {
        "id": "iP_tpQVGoSBF",
        "colab_type": "code",
        "colab": {
          "base_uri": "https://localhost:8080/",
          "height": 292
        },
        "outputId": "9b18edac-9da3-4861-c84c-c35f8e676f29"
      },
      "source": [
        "# to count the TripType values, we have to group the visits by VisitNumber\n",
        "original_df.groupby(\"VisitNumber\").TripType.mean().value_counts().plot(kind='bar')"
      ],
      "execution_count": 131,
      "outputs": [
        {
          "output_type": "execute_result",
          "data": {
            "text/plain": [
              "<matplotlib.axes._subplots.AxesSubplot at 0x7f291f7734a8>"
            ]
          },
          "metadata": {
            "tags": []
          },
          "execution_count": 131
        },
        {
          "output_type": "display_data",
          "data": {
            "image/png": "[encoded data removed]",
            "text/plain": [
              "<Figure size 432x288 with 1 Axes>"
            ]
          },
          "metadata": {
            "tags": [],
            "needs_background": "light"
          }
        }
      ]
    },
    {
      "cell_type": "markdown",
      "metadata": {
        "id": "cFbLytqGoSBJ",
        "colab_type": "text"
      },
      "source": [
        "**Unbalanced!!!**"
      ]
    },
    {
      "cell_type": "markdown",
      "metadata": {
        "id": "eBEqNt2soSBK",
        "colab_type": "text"
      },
      "source": [
        "Create a function to load the datasets.\n",
        "\n",
        "**Some important decisions made here**:\n",
        "1. We will use one hot encoding for Weekday and DepartmentDescription. All transformations are applied to the training and testing datasets...\n",
        "1. We are handling NaN's as another category. This may not be the best approach.\n",
        "1. We may have multiple records for one single visit and the goal is to classify all those records the exact same way. Therefore, we will prepare the data in a way that all the information for a visit is in the same record.\n",
        "1. Based on the last bullet, we will count the DepartmentDescription for all items acquired in the same visit.\n",
        "1. We drop the Upc and FinelineNumber to simplify the process. You may use it as they have a lot of information (may be using one-hot encoding for them as well)"
      ]
    },
    {
      "cell_type": "markdown",
      "metadata": {
        "id": "Wn_75huMoSBK",
        "colab_type": "text"
      },
      "source": [
        "The following operations will be performed in a function. Anyway, we present them here so that we can see them in action:\n",
        "\n",
        "First, we drop the columns. We include TripType as we are going to treat it differently:"
      ]
    },
    {
      "cell_type": "code",
      "metadata": {
        "id": "TzPQI5NOoSBL",
        "colab_type": "code",
        "colab": {}
      },
      "source": [
        "df = original_df.drop([\"TripType\"], axis=1)"
      ],
      "execution_count": 132,
      "outputs": []
    },
    {
      "cell_type": "code",
      "metadata": {
        "id": "z-lVppwgoSBO",
        "colab_type": "code",
        "colab": {
          "base_uri": "https://localhost:8080/",
          "height": 197
        },
        "outputId": "821f13bd-60ce-46a9-cbfd-b95094d11742"
      },
      "source": [
        "df.sample(5)"
      ],
      "execution_count": 133,
      "outputs": [
        {
          "output_type": "execute_result",
          "data": {
            "text/html": [
              "<div>\n",
              "<style scoped>\n",
              "    .dataframe tbody tr th:only-of-type {\n",
              "        vertical-align: middle;\n",
              "    }\n",
              "\n",
              "    .dataframe tbody tr th {\n",
              "        vertical-align: top;\n",
              "    }\n",
              "\n",
              "    .dataframe thead th {\n",
              "        text-align: right;\n",
              "    }\n",
              "</style>\n",
              "<table border=\"1\" class=\"dataframe\">\n",
              "  <thead>\n",
              "    <tr style=\"text-align: right;\">\n",
              "      <th></th>\n",
              "      <th>VisitNumber</th>\n",
              "      <th>Weekday</th>\n",
              "      <th>Upc</th>\n",
              "      <th>ScanCount</th>\n",
              "      <th>DepartmentDescription</th>\n",
              "      <th>FinelineNumber</th>\n",
              "    </tr>\n",
              "  </thead>\n",
              "  <tbody>\n",
              "    <tr>\n",
              "      <th>344186</th>\n",
              "      <td>145488</td>\n",
              "      <td>Sunday</td>\n",
              "      <td>7.874202e+09</td>\n",
              "      <td>1</td>\n",
              "      <td>DSD GROCERY</td>\n",
              "      <td>4631.0</td>\n",
              "    </tr>\n",
              "    <tr>\n",
              "      <th>272124</th>\n",
              "      <td>114007</td>\n",
              "      <td>Tuesday</td>\n",
              "      <td>8.395460e+10</td>\n",
              "      <td>1</td>\n",
              "      <td>JEWELRY AND SUNGLASSES</td>\n",
              "      <td>7077.0</td>\n",
              "    </tr>\n",
              "    <tr>\n",
              "      <th>442824</th>\n",
              "      <td>187620</td>\n",
              "      <td>Sunday</td>\n",
              "      <td>6.053881e+10</td>\n",
              "      <td>-1</td>\n",
              "      <td>HARDWARE</td>\n",
              "      <td>5007.0</td>\n",
              "    </tr>\n",
              "    <tr>\n",
              "      <th>166852</th>\n",
              "      <td>70040</td>\n",
              "      <td>Tuesday</td>\n",
              "      <td>8.660071e+09</td>\n",
              "      <td>1</td>\n",
              "      <td>GROCERY DRY GOODS</td>\n",
              "      <td>2908.0</td>\n",
              "    </tr>\n",
              "    <tr>\n",
              "      <th>398558</th>\n",
              "      <td>168804</td>\n",
              "      <td>Thursday</td>\n",
              "      <td>8.218231e+10</td>\n",
              "      <td>1</td>\n",
              "      <td>BOYS WEAR</td>\n",
              "      <td>5150.0</td>\n",
              "    </tr>\n",
              "  </tbody>\n",
              "</table>\n",
              "</div>"
            ],
            "text/plain": [
              "        VisitNumber   Weekday  ...   DepartmentDescription  FinelineNumber\n",
              "344186       145488    Sunday  ...             DSD GROCERY          4631.0\n",
              "272124       114007   Tuesday  ...  JEWELRY AND SUNGLASSES          7077.0\n",
              "442824       187620    Sunday  ...                HARDWARE          5007.0\n",
              "166852        70040   Tuesday  ...       GROCERY DRY GOODS          2908.0\n",
              "398558       168804  Thursday  ...               BOYS WEAR          5150.0\n",
              "\n",
              "[5 rows x 6 columns]"
            ]
          },
          "metadata": {
            "tags": []
          },
          "execution_count": 133
        }
      ]
    },
    {
      "cell_type": "markdown",
      "metadata": {
        "id": "V9dSVxmyoSBS",
        "colab_type": "text"
      },
      "source": [
        "Now, we create the dummy columns"
      ]
    },
    {
      "cell_type": "code",
      "metadata": {
        "id": "1jgo1zUN-jWt",
        "colab_type": "code",
        "colab": {}
      },
      "source": [
        "from hashlib import md5\n",
        "def hashit(val):\n",
        "    if isinstance(val, float): \n",
        "        return str(val)\n",
        "    return md5(val.encode('utf-8')).hexdigest()\n",
        "\n",
        "department_description_df = pd.DataFrame(columns=('hash', 'description'))\n",
        "department_description_df['description']= df.DepartmentDescription.unique()\n",
        "department_description_df['hash'] = department_description_df['description'].apply(hashit)\n",
        "\n"
      ],
      "execution_count": 134,
      "outputs": []
    },
    {
      "cell_type": "code",
      "metadata": {
        "id": "3ymeq3W2P0SD",
        "colab_type": "code",
        "colab": {}
      },
      "source": [
        "def get_dia_laboral(nombre_dia):\n",
        "    if nombre_dia in ['Wednesday', 'Thursday', 'Friday', 'Monday','Tuesday']:\n",
        "        return 'Dia laboral'\n",
        "    else:\n",
        "        return 'Fin de semana'"
      ],
      "execution_count": 135,
      "outputs": []
    },
    {
      "cell_type": "code",
      "metadata": {
        "id": "VeSJkoMR5ahL",
        "colab_type": "code",
        "colab": {
          "base_uri": "https://localhost:8080/",
          "height": 197
        },
        "outputId": "2584abb3-e65a-40d8-ddbc-569d605e6a80"
      },
      "source": [
        "df['tipo_dia']=df.Weekday.apply(lambda x:get_dia_laboral(x))\n",
        "df.sample(5)"
      ],
      "execution_count": 136,
      "outputs": [
        {
          "output_type": "execute_result",
          "data": {
            "text/html": [
              "<div>\n",
              "<style scoped>\n",
              "    .dataframe tbody tr th:only-of-type {\n",
              "        vertical-align: middle;\n",
              "    }\n",
              "\n",
              "    .dataframe tbody tr th {\n",
              "        vertical-align: top;\n",
              "    }\n",
              "\n",
              "    .dataframe thead th {\n",
              "        text-align: right;\n",
              "    }\n",
              "</style>\n",
              "<table border=\"1\" class=\"dataframe\">\n",
              "  <thead>\n",
              "    <tr style=\"text-align: right;\">\n",
              "      <th></th>\n",
              "      <th>VisitNumber</th>\n",
              "      <th>Weekday</th>\n",
              "      <th>Upc</th>\n",
              "      <th>ScanCount</th>\n",
              "      <th>DepartmentDescription</th>\n",
              "      <th>FinelineNumber</th>\n",
              "      <th>tipo_dia</th>\n",
              "    </tr>\n",
              "  </thead>\n",
              "  <tbody>\n",
              "    <tr>\n",
              "      <th>392558</th>\n",
              "      <td>165926</td>\n",
              "      <td>Wednesday</td>\n",
              "      <td>6.454169e+10</td>\n",
              "      <td>1</td>\n",
              "      <td>CELEBRATION</td>\n",
              "      <td>805.0</td>\n",
              "      <td>Dia laboral</td>\n",
              "    </tr>\n",
              "    <tr>\n",
              "      <th>269507</th>\n",
              "      <td>112626</td>\n",
              "      <td>Monday</td>\n",
              "      <td>3.700089e+09</td>\n",
              "      <td>1</td>\n",
              "      <td>PERSONAL CARE</td>\n",
              "      <td>5406.0</td>\n",
              "      <td>Dia laboral</td>\n",
              "    </tr>\n",
              "    <tr>\n",
              "      <th>150883</th>\n",
              "      <td>63315</td>\n",
              "      <td>Monday</td>\n",
              "      <td>2.840004e+09</td>\n",
              "      <td>1</td>\n",
              "      <td>IMPULSE MERCHANDISE</td>\n",
              "      <td>807.0</td>\n",
              "      <td>Dia laboral</td>\n",
              "    </tr>\n",
              "    <tr>\n",
              "      <th>392089</th>\n",
              "      <td>165733</td>\n",
              "      <td>Wednesday</td>\n",
              "      <td>3.040077e+09</td>\n",
              "      <td>1</td>\n",
              "      <td>HOUSEHOLD PAPER GOODS</td>\n",
              "      <td>3006.0</td>\n",
              "      <td>Dia laboral</td>\n",
              "    </tr>\n",
              "    <tr>\n",
              "      <th>189011</th>\n",
              "      <td>79973</td>\n",
              "      <td>Wednesday</td>\n",
              "      <td>7.861620e+10</td>\n",
              "      <td>1</td>\n",
              "      <td>DSD GROCERY</td>\n",
              "      <td>3005.0</td>\n",
              "      <td>Dia laboral</td>\n",
              "    </tr>\n",
              "  </tbody>\n",
              "</table>\n",
              "</div>"
            ],
            "text/plain": [
              "        VisitNumber    Weekday  ...  FinelineNumber     tipo_dia\n",
              "392558       165926  Wednesday  ...           805.0  Dia laboral\n",
              "269507       112626     Monday  ...          5406.0  Dia laboral\n",
              "150883        63315     Monday  ...           807.0  Dia laboral\n",
              "392089       165733  Wednesday  ...          3006.0  Dia laboral\n",
              "189011        79973  Wednesday  ...          3005.0  Dia laboral\n",
              "\n",
              "[5 rows x 7 columns]"
            ]
          },
          "metadata": {
            "tags": []
          },
          "execution_count": 136
        }
      ]
    },
    {
      "cell_type": "code",
      "metadata": {
        "id": "7Ajwwbla8ANm",
        "colab_type": "code",
        "colab": {}
      },
      "source": [
        "    df = df.drop([\"Upc\"], axis=1)\n"
      ],
      "execution_count": 137,
      "outputs": []
    },
    {
      "cell_type": "code",
      "metadata": {
        "colab_type": "code",
        "id": "KNHUjH1S87Yb",
        "colab": {
          "base_uri": "https://localhost:8080/",
          "height": 292
        },
        "outputId": "7ca56955-ac92-4fbe-860a-4cde75a88612"
      },
      "source": [
        "# to count the TripType values, we have to group the visits by VisitNumber\n",
        "original_df.groupby(\"VisitNumber\").TripType.mean().value_counts().plot(kind='bar')"
      ],
      "execution_count": 138,
      "outputs": [
        {
          "output_type": "execute_result",
          "data": {
            "text/plain": [
              "<matplotlib.axes._subplots.AxesSubplot at 0x7f29277a45f8>"
            ]
          },
          "metadata": {
            "tags": []
          },
          "execution_count": 138
        },
        {
          "output_type": "display_data",
          "data": {
            "image/png": "[encoded data removed]",
            "text/plain": [
              "<Figure size 432x288 with 1 Axes>"
            ]
          },
          "metadata": {
            "tags": [],
            "needs_background": "light"
          }
        }
      ]
    },
    {
      "cell_type": "code",
      "metadata": {
        "id": "TYdKkJIA8GMB",
        "colab_type": "code",
        "colab": {
          "base_uri": "https://localhost:8080/",
          "height": 406
        },
        "outputId": "d661fa1f-ab28-4cfe-f688-504019c676cf"
      },
      "source": [
        "df"
      ],
      "execution_count": 139,
      "outputs": [
        {
          "output_type": "execute_result",
          "data": {
            "text/html": [
              "<div>\n",
              "<style scoped>\n",
              "    .dataframe tbody tr th:only-of-type {\n",
              "        vertical-align: middle;\n",
              "    }\n",
              "\n",
              "    .dataframe tbody tr th {\n",
              "        vertical-align: top;\n",
              "    }\n",
              "\n",
              "    .dataframe thead th {\n",
              "        text-align: right;\n",
              "    }\n",
              "</style>\n",
              "<table border=\"1\" class=\"dataframe\">\n",
              "  <thead>\n",
              "    <tr style=\"text-align: right;\">\n",
              "      <th></th>\n",
              "      <th>VisitNumber</th>\n",
              "      <th>Weekday</th>\n",
              "      <th>ScanCount</th>\n",
              "      <th>DepartmentDescription</th>\n",
              "      <th>FinelineNumber</th>\n",
              "      <th>tipo_dia</th>\n",
              "    </tr>\n",
              "  </thead>\n",
              "  <tbody>\n",
              "    <tr>\n",
              "      <th>0</th>\n",
              "      <td>5</td>\n",
              "      <td>Friday</td>\n",
              "      <td>-1</td>\n",
              "      <td>FINANCIAL SERVICES</td>\n",
              "      <td>1000.0</td>\n",
              "      <td>Dia laboral</td>\n",
              "    </tr>\n",
              "    <tr>\n",
              "      <th>1</th>\n",
              "      <td>9</td>\n",
              "      <td>Friday</td>\n",
              "      <td>1</td>\n",
              "      <td>IMPULSE MERCHANDISE</td>\n",
              "      <td>115.0</td>\n",
              "      <td>Dia laboral</td>\n",
              "    </tr>\n",
              "    <tr>\n",
              "      <th>2</th>\n",
              "      <td>9</td>\n",
              "      <td>Friday</td>\n",
              "      <td>1</td>\n",
              "      <td>PRODUCE</td>\n",
              "      <td>103.0</td>\n",
              "      <td>Dia laboral</td>\n",
              "    </tr>\n",
              "    <tr>\n",
              "      <th>3</th>\n",
              "      <td>9</td>\n",
              "      <td>Friday</td>\n",
              "      <td>1</td>\n",
              "      <td>PRODUCE</td>\n",
              "      <td>5501.0</td>\n",
              "      <td>Dia laboral</td>\n",
              "    </tr>\n",
              "    <tr>\n",
              "      <th>4</th>\n",
              "      <td>10</td>\n",
              "      <td>Friday</td>\n",
              "      <td>1</td>\n",
              "      <td>DSD GROCERY</td>\n",
              "      <td>2008.0</td>\n",
              "      <td>Dia laboral</td>\n",
              "    </tr>\n",
              "    <tr>\n",
              "      <th>...</th>\n",
              "      <td>...</td>\n",
              "      <td>...</td>\n",
              "      <td>...</td>\n",
              "      <td>...</td>\n",
              "      <td>...</td>\n",
              "      <td>...</td>\n",
              "    </tr>\n",
              "    <tr>\n",
              "      <th>453406</th>\n",
              "      <td>191344</td>\n",
              "      <td>Sunday</td>\n",
              "      <td>1</td>\n",
              "      <td>BEAUTY</td>\n",
              "      <td>3405.0</td>\n",
              "      <td>Fin de semana</td>\n",
              "    </tr>\n",
              "    <tr>\n",
              "      <th>453407</th>\n",
              "      <td>191344</td>\n",
              "      <td>Sunday</td>\n",
              "      <td>1</td>\n",
              "      <td>WIRELESS</td>\n",
              "      <td>1712.0</td>\n",
              "      <td>Fin de semana</td>\n",
              "    </tr>\n",
              "    <tr>\n",
              "      <th>453408</th>\n",
              "      <td>191344</td>\n",
              "      <td>Sunday</td>\n",
              "      <td>1</td>\n",
              "      <td>BEAUTY</td>\n",
              "      <td>3405.0</td>\n",
              "      <td>Fin de semana</td>\n",
              "    </tr>\n",
              "    <tr>\n",
              "      <th>453409</th>\n",
              "      <td>191347</td>\n",
              "      <td>Sunday</td>\n",
              "      <td>1</td>\n",
              "      <td>DAIRY</td>\n",
              "      <td>1512.0</td>\n",
              "      <td>Fin de semana</td>\n",
              "    </tr>\n",
              "    <tr>\n",
              "      <th>453410</th>\n",
              "      <td>191347</td>\n",
              "      <td>Sunday</td>\n",
              "      <td>1</td>\n",
              "      <td>GROCERY DRY GOODS</td>\n",
              "      <td>3600.0</td>\n",
              "      <td>Fin de semana</td>\n",
              "    </tr>\n",
              "  </tbody>\n",
              "</table>\n",
              "<p>453411 rows × 6 columns</p>\n",
              "</div>"
            ],
            "text/plain": [
              "        VisitNumber Weekday  ...  FinelineNumber       tipo_dia\n",
              "0                 5  Friday  ...          1000.0    Dia laboral\n",
              "1                 9  Friday  ...           115.0    Dia laboral\n",
              "2                 9  Friday  ...           103.0    Dia laboral\n",
              "3                 9  Friday  ...          5501.0    Dia laboral\n",
              "4                10  Friday  ...          2008.0    Dia laboral\n",
              "...             ...     ...  ...             ...            ...\n",
              "453406       191344  Sunday  ...          3405.0  Fin de semana\n",
              "453407       191344  Sunday  ...          1712.0  Fin de semana\n",
              "453408       191344  Sunday  ...          3405.0  Fin de semana\n",
              "453409       191347  Sunday  ...          1512.0  Fin de semana\n",
              "453410       191347  Sunday  ...          3600.0  Fin de semana\n",
              "\n",
              "[453411 rows x 6 columns]"
            ]
          },
          "metadata": {
            "tags": []
          },
          "execution_count": 139
        }
      ]
    },
    {
      "cell_type": "code",
      "metadata": {
        "id": "upvHT_N08J-w",
        "colab_type": "code",
        "colab": {}
      },
      "source": [
        "    df = pd.get_dummies(df, columns=[\"DepartmentDescription\"], dummy_na=True)\n"
      ],
      "execution_count": 140,
      "outputs": []
    },
    {
      "cell_type": "code",
      "metadata": {
        "id": "csGYfzWr8gd1",
        "colab_type": "code",
        "colab": {}
      },
      "source": [
        "    df = pd.get_dummies(df, columns=[\"tipo_dia\"], dummy_na=True)\n"
      ],
      "execution_count": 141,
      "outputs": []
    },
    {
      "cell_type": "code",
      "metadata": {
        "id": "sgCVKVWdq1Tr",
        "colab_type": "code",
        "colab": {
          "base_uri": "https://localhost:8080/",
          "height": 462
        },
        "outputId": "1c8dde9d-cb2d-42a1-fbab-71a3a0a657db"
      },
      "source": [
        "df_2 = df.groupby([\"VisitNumber\", \"FinelineNumber\",\"DepartmentDescription\"], as_index=False).count()\n",
        "df_2[(df_2.FinelineNumber==279.0) & (df_2.DepartmentDescription!='FINANCIAL SERVICES')]"
      ],
      "execution_count": 56,
      "outputs": [
        {
          "output_type": "stream",
          "text": [
            "/usr/local/lib/python3.6/dist-packages/pandas/core/ops/array_ops.py:253: FutureWarning: elementwise comparison failed; returning scalar instead, but in the future will perform elementwise comparison\n",
            "  res_values = method(rvalues)\n"
          ],
          "name": "stderr"
        },
        {
          "output_type": "execute_result",
          "data": {
            "text/html": [
              "<div>\n",
              "<style scoped>\n",
              "    .dataframe tbody tr th:only-of-type {\n",
              "        vertical-align: middle;\n",
              "    }\n",
              "\n",
              "    .dataframe tbody tr th {\n",
              "        vertical-align: top;\n",
              "    }\n",
              "\n",
              "    .dataframe thead th {\n",
              "        text-align: right;\n",
              "    }\n",
              "</style>\n",
              "<table border=\"1\" class=\"dataframe\">\n",
              "  <thead>\n",
              "    <tr style=\"text-align: right;\">\n",
              "      <th></th>\n",
              "      <th>VisitNumber</th>\n",
              "      <th>FinelineNumber</th>\n",
              "      <th>DepartmentDescription</th>\n",
              "      <th>Weekday</th>\n",
              "      <th>Upc</th>\n",
              "      <th>ScanCount</th>\n",
              "      <th>tipo_dia</th>\n",
              "    </tr>\n",
              "  </thead>\n",
              "  <tbody>\n",
              "    <tr>\n",
              "      <th>83</th>\n",
              "      <td>253</td>\n",
              "      <td>279.0</td>\n",
              "      <td>58</td>\n",
              "      <td>1</td>\n",
              "      <td>1</td>\n",
              "      <td>1</td>\n",
              "      <td>1</td>\n",
              "    </tr>\n",
              "    <tr>\n",
              "      <th>94</th>\n",
              "      <td>281</td>\n",
              "      <td>279.0</td>\n",
              "      <td>58</td>\n",
              "      <td>1</td>\n",
              "      <td>1</td>\n",
              "      <td>1</td>\n",
              "      <td>1</td>\n",
              "    </tr>\n",
              "    <tr>\n",
              "      <th>110</th>\n",
              "      <td>317</td>\n",
              "      <td>279.0</td>\n",
              "      <td>58</td>\n",
              "      <td>1</td>\n",
              "      <td>1</td>\n",
              "      <td>1</td>\n",
              "      <td>1</td>\n",
              "    </tr>\n",
              "    <tr>\n",
              "      <th>150</th>\n",
              "      <td>403</td>\n",
              "      <td>279.0</td>\n",
              "      <td>58</td>\n",
              "      <td>1</td>\n",
              "      <td>1</td>\n",
              "      <td>1</td>\n",
              "      <td>1</td>\n",
              "    </tr>\n",
              "    <tr>\n",
              "      <th>151</th>\n",
              "      <td>407</td>\n",
              "      <td>279.0</td>\n",
              "      <td>58</td>\n",
              "      <td>1</td>\n",
              "      <td>1</td>\n",
              "      <td>1</td>\n",
              "      <td>1</td>\n",
              "    </tr>\n",
              "    <tr>\n",
              "      <th>...</th>\n",
              "      <td>...</td>\n",
              "      <td>...</td>\n",
              "      <td>...</td>\n",
              "      <td>...</td>\n",
              "      <td>...</td>\n",
              "      <td>...</td>\n",
              "      <td>...</td>\n",
              "    </tr>\n",
              "    <tr>\n",
              "      <th>66235</th>\n",
              "      <td>189134</td>\n",
              "      <td>279.0</td>\n",
              "      <td>58</td>\n",
              "      <td>1</td>\n",
              "      <td>1</td>\n",
              "      <td>1</td>\n",
              "      <td>1</td>\n",
              "    </tr>\n",
              "    <tr>\n",
              "      <th>66282</th>\n",
              "      <td>189296</td>\n",
              "      <td>279.0</td>\n",
              "      <td>58</td>\n",
              "      <td>1</td>\n",
              "      <td>1</td>\n",
              "      <td>1</td>\n",
              "      <td>1</td>\n",
              "    </tr>\n",
              "    <tr>\n",
              "      <th>66402</th>\n",
              "      <td>189644</td>\n",
              "      <td>279.0</td>\n",
              "      <td>58</td>\n",
              "      <td>1</td>\n",
              "      <td>1</td>\n",
              "      <td>1</td>\n",
              "      <td>1</td>\n",
              "    </tr>\n",
              "    <tr>\n",
              "      <th>66430</th>\n",
              "      <td>189704</td>\n",
              "      <td>279.0</td>\n",
              "      <td>58</td>\n",
              "      <td>1</td>\n",
              "      <td>1</td>\n",
              "      <td>1</td>\n",
              "      <td>1</td>\n",
              "    </tr>\n",
              "    <tr>\n",
              "      <th>66772</th>\n",
              "      <td>190643</td>\n",
              "      <td>279.0</td>\n",
              "      <td>58</td>\n",
              "      <td>1</td>\n",
              "      <td>1</td>\n",
              "      <td>1</td>\n",
              "      <td>1</td>\n",
              "    </tr>\n",
              "  </tbody>\n",
              "</table>\n",
              "<p>603 rows × 7 columns</p>\n",
              "</div>"
            ],
            "text/plain": [
              "       VisitNumber  FinelineNumber  ...  ScanCount  tipo_dia\n",
              "83             253           279.0  ...          1         1\n",
              "94             281           279.0  ...          1         1\n",
              "110            317           279.0  ...          1         1\n",
              "150            403           279.0  ...          1         1\n",
              "151            407           279.0  ...          1         1\n",
              "...            ...             ...  ...        ...       ...\n",
              "66235       189134           279.0  ...          1         1\n",
              "66282       189296           279.0  ...          1         1\n",
              "66402       189644           279.0  ...          1         1\n",
              "66430       189704           279.0  ...          1         1\n",
              "66772       190643           279.0  ...          1         1\n",
              "\n",
              "[603 rows x 7 columns]"
            ]
          },
          "metadata": {
            "tags": []
          },
          "execution_count": 56
        }
      ]
    },
    {
      "cell_type": "code",
      "metadata": {
        "id": "gwZmrj1MoSBX",
        "colab_type": "code",
        "colab": {
          "base_uri": "https://localhost:8080/",
          "height": 406
        },
        "outputId": "698f4e0b-98bf-45d1-9ed9-86f9ff59e920"
      },
      "source": [
        "df"
      ],
      "execution_count": 36,
      "outputs": [
        {
          "output_type": "execute_result",
          "data": {
            "text/html": [
              "<div>\n",
              "<style scoped>\n",
              "    .dataframe tbody tr th:only-of-type {\n",
              "        vertical-align: middle;\n",
              "    }\n",
              "\n",
              "    .dataframe tbody tr th {\n",
              "        vertical-align: top;\n",
              "    }\n",
              "\n",
              "    .dataframe thead th {\n",
              "        text-align: right;\n",
              "    }\n",
              "</style>\n",
              "<table border=\"1\" class=\"dataframe\">\n",
              "  <thead>\n",
              "    <tr style=\"text-align: right;\">\n",
              "      <th></th>\n",
              "      <th>VisitNumber</th>\n",
              "      <th>Weekday</th>\n",
              "      <th>Upc</th>\n",
              "      <th>ScanCount</th>\n",
              "      <th>DepartmentDescription</th>\n",
              "      <th>FinelineNumber</th>\n",
              "      <th>tipo_dia</th>\n",
              "    </tr>\n",
              "  </thead>\n",
              "  <tbody>\n",
              "    <tr>\n",
              "      <th>0</th>\n",
              "      <td>5</td>\n",
              "      <td>0</td>\n",
              "      <td>6.811315e+10</td>\n",
              "      <td>-1</td>\n",
              "      <td>58</td>\n",
              "      <td>1000.0</td>\n",
              "      <td>0</td>\n",
              "    </tr>\n",
              "    <tr>\n",
              "      <th>1</th>\n",
              "      <td>9</td>\n",
              "      <td>0</td>\n",
              "      <td>1.070081e+09</td>\n",
              "      <td>1</td>\n",
              "      <td>49</td>\n",
              "      <td>115.0</td>\n",
              "      <td>0</td>\n",
              "    </tr>\n",
              "    <tr>\n",
              "      <th>2</th>\n",
              "      <td>9</td>\n",
              "      <td>0</td>\n",
              "      <td>3.107000e+03</td>\n",
              "      <td>1</td>\n",
              "      <td>34</td>\n",
              "      <td>103.0</td>\n",
              "      <td>0</td>\n",
              "    </tr>\n",
              "    <tr>\n",
              "      <th>3</th>\n",
              "      <td>9</td>\n",
              "      <td>0</td>\n",
              "      <td>4.011000e+03</td>\n",
              "      <td>1</td>\n",
              "      <td>34</td>\n",
              "      <td>5501.0</td>\n",
              "      <td>0</td>\n",
              "    </tr>\n",
              "    <tr>\n",
              "      <th>4</th>\n",
              "      <td>10</td>\n",
              "      <td>0</td>\n",
              "      <td>6.414410e+09</td>\n",
              "      <td>1</td>\n",
              "      <td>61</td>\n",
              "      <td>2008.0</td>\n",
              "      <td>0</td>\n",
              "    </tr>\n",
              "    <tr>\n",
              "      <th>...</th>\n",
              "      <td>...</td>\n",
              "      <td>...</td>\n",
              "      <td>...</td>\n",
              "      <td>...</td>\n",
              "      <td>...</td>\n",
              "      <td>...</td>\n",
              "      <td>...</td>\n",
              "    </tr>\n",
              "    <tr>\n",
              "      <th>453406</th>\n",
              "      <td>191344</td>\n",
              "      <td>3</td>\n",
              "      <td>7.315096e+10</td>\n",
              "      <td>1</td>\n",
              "      <td>64</td>\n",
              "      <td>3405.0</td>\n",
              "      <td>1</td>\n",
              "    </tr>\n",
              "    <tr>\n",
              "      <th>453407</th>\n",
              "      <td>191344</td>\n",
              "      <td>3</td>\n",
              "      <td>6.505300e+10</td>\n",
              "      <td>1</td>\n",
              "      <td>11</td>\n",
              "      <td>1712.0</td>\n",
              "      <td>1</td>\n",
              "    </tr>\n",
              "    <tr>\n",
              "      <th>453408</th>\n",
              "      <td>191344</td>\n",
              "      <td>3</td>\n",
              "      <td>7.918131e+09</td>\n",
              "      <td>1</td>\n",
              "      <td>64</td>\n",
              "      <td>3405.0</td>\n",
              "      <td>1</td>\n",
              "    </tr>\n",
              "    <tr>\n",
              "      <th>453409</th>\n",
              "      <td>191347</td>\n",
              "      <td>3</td>\n",
              "      <td>4.190008e+09</td>\n",
              "      <td>1</td>\n",
              "      <td>13</td>\n",
              "      <td>1512.0</td>\n",
              "      <td>1</td>\n",
              "    </tr>\n",
              "    <tr>\n",
              "      <th>453410</th>\n",
              "      <td>191347</td>\n",
              "      <td>3</td>\n",
              "      <td>3.800060e+09</td>\n",
              "      <td>1</td>\n",
              "      <td>6</td>\n",
              "      <td>3600.0</td>\n",
              "      <td>1</td>\n",
              "    </tr>\n",
              "  </tbody>\n",
              "</table>\n",
              "<p>453411 rows × 7 columns</p>\n",
              "</div>"
            ],
            "text/plain": [
              "        VisitNumber  Weekday  ...  FinelineNumber  tipo_dia\n",
              "0                 5        0  ...          1000.0         0\n",
              "1                 9        0  ...           115.0         0\n",
              "2                 9        0  ...           103.0         0\n",
              "3                 9        0  ...          5501.0         0\n",
              "4                10        0  ...          2008.0         0\n",
              "...             ...      ...  ...             ...       ...\n",
              "453406       191344        3  ...          3405.0         1\n",
              "453407       191344        3  ...          1712.0         1\n",
              "453408       191344        3  ...          3405.0         1\n",
              "453409       191347        3  ...          1512.0         1\n",
              "453410       191347        3  ...          3600.0         1\n",
              "\n",
              "[453411 rows x 7 columns]"
            ]
          },
          "metadata": {
            "tags": []
          },
          "execution_count": 36
        }
      ]
    },
    {
      "cell_type": "markdown",
      "metadata": {
        "id": "DtpE-kAXoSBb",
        "colab_type": "text"
      },
      "source": [
        "Now, we group by the VisitNumber and Weekday (they should be the same), and add all values for ScanCount, and the one-hot encoding of DepartmentDescriptioin"
      ]
    },
    {
      "cell_type": "code",
      "metadata": {
        "id": "RkT0qndzoSBc",
        "colab_type": "code",
        "colab": {}
      },
      "source": [
        "df = df.groupby([\"VisitNumber\", \"Weekday\"], as_index=False).sum()"
      ],
      "execution_count": 37,
      "outputs": []
    },
    {
      "cell_type": "code",
      "metadata": {
        "id": "LwhkegxhoSBf",
        "colab_type": "code",
        "colab": {
          "base_uri": "https://localhost:8080/",
          "height": 406
        },
        "outputId": "45abb623-9688-417a-b85d-9125fa1d470b"
      },
      "source": [
        "df"
      ],
      "execution_count": 38,
      "outputs": [
        {
          "output_type": "execute_result",
          "data": {
            "text/html": [
              "<div>\n",
              "<style scoped>\n",
              "    .dataframe tbody tr th:only-of-type {\n",
              "        vertical-align: middle;\n",
              "    }\n",
              "\n",
              "    .dataframe tbody tr th {\n",
              "        vertical-align: top;\n",
              "    }\n",
              "\n",
              "    .dataframe thead th {\n",
              "        text-align: right;\n",
              "    }\n",
              "</style>\n",
              "<table border=\"1\" class=\"dataframe\">\n",
              "  <thead>\n",
              "    <tr style=\"text-align: right;\">\n",
              "      <th></th>\n",
              "      <th>VisitNumber</th>\n",
              "      <th>Weekday</th>\n",
              "      <th>Upc</th>\n",
              "      <th>ScanCount</th>\n",
              "      <th>DepartmentDescription</th>\n",
              "      <th>FinelineNumber</th>\n",
              "      <th>tipo_dia</th>\n",
              "    </tr>\n",
              "  </thead>\n",
              "  <tbody>\n",
              "    <tr>\n",
              "      <th>0</th>\n",
              "      <td>5</td>\n",
              "      <td>0</td>\n",
              "      <td>6.811315e+10</td>\n",
              "      <td>-1</td>\n",
              "      <td>58</td>\n",
              "      <td>1000.0</td>\n",
              "      <td>0</td>\n",
              "    </tr>\n",
              "    <tr>\n",
              "      <th>1</th>\n",
              "      <td>9</td>\n",
              "      <td>0</td>\n",
              "      <td>1.070088e+09</td>\n",
              "      <td>3</td>\n",
              "      <td>117</td>\n",
              "      <td>5719.0</td>\n",
              "      <td>0</td>\n",
              "    </tr>\n",
              "    <tr>\n",
              "      <th>2</th>\n",
              "      <td>10</td>\n",
              "      <td>0</td>\n",
              "      <td>1.700927e+10</td>\n",
              "      <td>3</td>\n",
              "      <td>152</td>\n",
              "      <td>10073.0</td>\n",
              "      <td>0</td>\n",
              "    </tr>\n",
              "    <tr>\n",
              "      <th>3</th>\n",
              "      <td>11</td>\n",
              "      <td>0</td>\n",
              "      <td>2.273895e+10</td>\n",
              "      <td>4</td>\n",
              "      <td>165</td>\n",
              "      <td>7499.0</td>\n",
              "      <td>0</td>\n",
              "    </tr>\n",
              "    <tr>\n",
              "      <th>4</th>\n",
              "      <td>12</td>\n",
              "      <td>0</td>\n",
              "      <td>1.832173e+11</td>\n",
              "      <td>7</td>\n",
              "      <td>254</td>\n",
              "      <td>15639.0</td>\n",
              "      <td>0</td>\n",
              "    </tr>\n",
              "    <tr>\n",
              "      <th>...</th>\n",
              "      <td>...</td>\n",
              "      <td>...</td>\n",
              "      <td>...</td>\n",
              "      <td>...</td>\n",
              "      <td>...</td>\n",
              "      <td>...</td>\n",
              "      <td>...</td>\n",
              "    </tr>\n",
              "    <tr>\n",
              "      <th>67024</th>\n",
              "      <td>191329</td>\n",
              "      <td>3</td>\n",
              "      <td>5.830656e+11</td>\n",
              "      <td>20</td>\n",
              "      <td>674</td>\n",
              "      <td>75311.0</td>\n",
              "      <td>20</td>\n",
              "    </tr>\n",
              "    <tr>\n",
              "      <th>67025</th>\n",
              "      <td>191337</td>\n",
              "      <td>3</td>\n",
              "      <td>2.659169e+11</td>\n",
              "      <td>27</td>\n",
              "      <td>774</td>\n",
              "      <td>113908.0</td>\n",
              "      <td>28</td>\n",
              "    </tr>\n",
              "    <tr>\n",
              "      <th>67026</th>\n",
              "      <td>191343</td>\n",
              "      <td>3</td>\n",
              "      <td>4.516225e+11</td>\n",
              "      <td>9</td>\n",
              "      <td>255</td>\n",
              "      <td>33991.0</td>\n",
              "      <td>7</td>\n",
              "    </tr>\n",
              "    <tr>\n",
              "      <th>67027</th>\n",
              "      <td>191344</td>\n",
              "      <td>3</td>\n",
              "      <td>1.614572e+11</td>\n",
              "      <td>5</td>\n",
              "      <td>267</td>\n",
              "      <td>15127.0</td>\n",
              "      <td>5</td>\n",
              "    </tr>\n",
              "    <tr>\n",
              "      <th>67028</th>\n",
              "      <td>191347</td>\n",
              "      <td>3</td>\n",
              "      <td>7.990067e+09</td>\n",
              "      <td>2</td>\n",
              "      <td>19</td>\n",
              "      <td>5112.0</td>\n",
              "      <td>2</td>\n",
              "    </tr>\n",
              "  </tbody>\n",
              "</table>\n",
              "<p>67029 rows × 7 columns</p>\n",
              "</div>"
            ],
            "text/plain": [
              "       VisitNumber  Weekday  ...  FinelineNumber  tipo_dia\n",
              "0                5        0  ...          1000.0         0\n",
              "1                9        0  ...          5719.0         0\n",
              "2               10        0  ...         10073.0         0\n",
              "3               11        0  ...          7499.0         0\n",
              "4               12        0  ...         15639.0         0\n",
              "...            ...      ...  ...             ...       ...\n",
              "67024       191329        3  ...         75311.0        20\n",
              "67025       191337        3  ...        113908.0        28\n",
              "67026       191343        3  ...         33991.0         7\n",
              "67027       191344        3  ...         15127.0         5\n",
              "67028       191347        3  ...          5112.0         2\n",
              "\n",
              "[67029 rows x 7 columns]"
            ]
          },
          "metadata": {
            "tags": []
          },
          "execution_count": 38
        }
      ]
    },
    {
      "cell_type": "code",
      "metadata": {
        "id": "bQCLhhEq2Tko",
        "colab_type": "code",
        "colab": {}
      },
      "source": [
        "def transform_data(train_data_fname, test_data_fname):\n",
        "    df_train = pd.read_csv(train_data_fname)\n",
        "    df_train['is_train_set'] = 1\n",
        "    df_test = pd.read_csv(test_data_fname)\n",
        "    df_test['is_train_set'] = 0\n",
        "\n",
        "    # we  get the TripType for the train set. To do that, we group by VisitNumber and\n",
        "    # then we get the max (or min or avg)\n",
        "    y = df_train.groupby([\"VisitNumber\", \"Weekday\"], as_index=False).max().TripType\n",
        "\n",
        "    # we remove the TripType now, and concat training and testing data\n",
        "    # the concat is done so that we have the same columns for both datasets\n",
        "    # after one-hot encoding\n",
        "    df_train = df_train.drop(\"TripType\", axis=1)\n",
        "    df = pd.concat([df_train, df_test])\n",
        "    \n",
        "    # the next three operations are the ones we have just presented in the previous lines\n",
        "    df.drop_duplicates(keep='first', ignore_index=True, inplace=True)\n",
        "\n",
        "    # drop the columns we won't use (it may be good to use them somehow)\n",
        "    df = df.drop([\"Upc\"], axis=1)\n",
        "\n",
        "    mask = (df.FinelineNumber.isna())&(df.DepartmentDescription=='PHARMACY RX')\n",
        "    column_name = 'FinelineNumber'\n",
        "    df.loc[mask, column_name] = 4822.0\n",
        "\n",
        "    # one-hot encoding for the DepartmentDescription\n",
        "    df = pd.get_dummies(df, columns=[\"DepartmentDescription\"], dummy_na=True)\n",
        "\n",
        "    # now we add the groupby values\n",
        "    #df = df.groupby([\"VisitNumber\", \"Weekday\",\"FinelineNumber\"], as_index=False).sum()\n",
        "    df = df.groupby([\"VisitNumber\", \"Weekday\"], as_index=False).sum()\n",
        "\n",
        "    # finally, we do one-hot encoding for the Weekday\n",
        "    df = pd.get_dummies(df, columns=[\"Weekday\"], dummy_na=True)\n",
        "\n",
        "    # get train and test back\n",
        "    df_train = df[df.is_train_set != 0]\n",
        "    df_test = df[df.is_train_set == 0]\n",
        "    \n",
        "    X = df_train.drop([\"is_train_set\"], axis=1)\n",
        "    yy = None\n",
        "    XX = df_test.drop([\"is_train_set\"], axis=1)\n",
        "\n",
        "    return X, y, XX, yy"
      ],
      "execution_count": 145,
      "outputs": []
    },
    {
      "cell_type": "code",
      "metadata": {
        "id": "6T-z1DxToSBi",
        "colab_type": "code",
        "colab": {}
      },
      "source": [
        "def transform_data2(train_data_fname, test_data_fname):\n",
        "    df_train = pd.read_csv(train_data_fname)\n",
        "    df_train['is_train_set'] = 1\n",
        "    df_test = pd.read_csv(test_data_fname)\n",
        "    df_test['is_train_set'] = 0\n",
        "\n",
        "    # we  get the TripType for the train set. To do that, we group by VisitNumber and\n",
        "    # then we get the max (or min or avg)\n",
        "    y = df_train.groupby([\"VisitNumber\", \"Weekday\"], as_index=False).max().TripType\n",
        "\n",
        "    # we remove the TripType now, and concat training and testing data\n",
        "    # the concat is done so that we have the same columns for both datasets\n",
        "    # after one-hot encoding\n",
        "    df_train = df_train.drop(\"TripType\", axis=1)\n",
        "    df = pd.concat([df_train, df_test])\n",
        "    \n",
        "    # the next three operations are the ones we have just presented in the previous lines\n",
        "    \n",
        "    # drop the columns we won't use (it may be good to use them somehow)\n",
        "    df = df.drop([\"Upc\",\"FinelineNumber\"], axis=1)\n",
        "   \n",
        "    #Borramos duplicados\n",
        "    df.drop_duplicates(keep='first', ignore_index=True, inplace=True)\n",
        "    \n",
        "    #Reemplazamos en FinelineNumber en DepartmentDescription PHARMACY RX\n",
        "    #mask = (df.FinelineNumber.isna())&(df.DepartmentDescription=='PHARMACY RX')\n",
        "    #column_name = 'FinelineNumber'\n",
        "    #df.loc[mask, column_name] = 4822.0\n",
        "\n",
        "    # one-hot encoding for the DepartmentDescription\n",
        "    df = pd.get_dummies(df, columns=[\"DepartmentDescription\"], dummy_na=True)\n",
        "\n",
        "    # now we add the groupby values\n",
        "    df = df.groupby([\"VisitNumber\", \"Weekday\"], as_index=False).sum()\n",
        "    \n",
        "    # finally, we do one-hot encoding for the Weekday\n",
        "    df = pd.get_dummies(df, columns=[\"Weekday\"], dummy_na=True)\n",
        "    \n",
        "    #Creamos una feature para el tipo de dia que es: laboral o fin de semana\n",
        "    #df['tipo_dia']=df.Weekday.apply(lambda x:get_dia_laboral(x))\n",
        "    #df = pd.get_dummies(df, columns=[\"tipo_dia\"], dummy_na=False)\n",
        "\n",
        "    # get train and test back\n",
        "    df_train = df[df.is_train_set != 0].dropna()\n",
        "    df_test = df[df.is_train_set == 0].dropna()\n",
        "    \n",
        "    X = df_train.drop([\"is_train_set\"], axis=1)\n",
        "    yy = None\n",
        "    XX = df_test.drop([\"is_train_set\"], axis=1)\n",
        "\n",
        "    return X, y, XX, yy"
      ],
      "execution_count": 267,
      "outputs": []
    },
    {
      "cell_type": "markdown",
      "metadata": {
        "id": "lSgXf2f2oSBl",
        "colab_type": "text"
      },
      "source": [
        "Load the data..."
      ]
    },
    {
      "cell_type": "code",
      "metadata": {
        "id": "dButqcNsoSBm",
        "colab_type": "code",
        "colab": {}
      },
      "source": [
        "X, y, XX, yy = transform_data(\"https://raw.githubusercontent.com/DiploDatos/AprendizajeSupervisado/master/practico/data/train.csv\", \"https://raw.githubusercontent.com/DiploDatos/AprendizajeSupervisado/master/practico/data/test.csv\")"
      ],
      "execution_count": 146,
      "outputs": []
    },
    {
      "cell_type": "markdown",
      "metadata": {
        "id": "-jCi-1SroSBq",
        "colab_type": "text"
      },
      "source": [
        "Create the model and evaluate it"
      ]
    },
    {
      "cell_type": "code",
      "metadata": {
        "id": "xqm8xCak7oLS",
        "colab_type": "code",
        "colab": {
          "base_uri": "https://localhost:8080/",
          "height": 34
        },
        "outputId": "a000b60c-7611-4611-c9ea-d0359ff417ee"
      },
      "source": [
        "X.shape"
      ],
      "execution_count": 147,
      "outputs": [
        {
          "output_type": "execute_result",
          "data": {
            "text/plain": [
              "(67029, 80)"
            ]
          },
          "metadata": {
            "tags": []
          },
          "execution_count": 147
        }
      ]
    },
    {
      "cell_type": "code",
      "metadata": {
        "id": "_M_sR6mJoSBr",
        "colab_type": "code",
        "colab": {}
      },
      "source": [
        "# split training dataset into train and \"validation\" \n",
        "# (we won't be using validation set in this example, because of the cross-validation;\n",
        "# but it could be useful for you depending on your approach)\n",
        "from sklearn.model_selection import train_test_split\n",
        "X_train, X_valid, y_train, y_valid = train_test_split(X, y, test_size=0.3, random_state=42)"
      ],
      "execution_count": 148,
      "outputs": []
    },
    {
      "cell_type": "code",
      "metadata": {
        "id": "bSsG1YyJoSBv",
        "colab_type": "code",
        "colab": {}
      },
      "source": [
        "# results dataframe is used to store the computed results\n",
        "results = pd.DataFrame(columns=('clf', 'best_acc'))"
      ],
      "execution_count": 149,
      "outputs": []
    },
    {
      "cell_type": "code",
      "metadata": {
        "id": "BlCvzy1hoSBy",
        "colab_type": "code",
        "colab": {}
      },
      "source": [
        "# we will use a DesicionTree to classify and GridSearch to determine the parameters\n",
        "from sklearn.tree import DecisionTreeClassifier as DT\n",
        "from sklearn.model_selection import GridSearchCV\n",
        "from sklearn.metrics import accuracy_score\n",
        "\n",
        "#tree_param = {'criterion':('gini', 'entropy'),# 'min_samples_leaf':(1, 2, 5,8),\n",
        "#              'min_samples_leaf': [1,2,3,4],\n",
        "#              'min_samples_split':(2,100) }\n",
        "tree_param = {'criterion':('gini', 'entropy'), 'min_samples_leaf':(1, 2,4,5),\n",
        "              'min_samples_split':(2, 3, 5, 10, 50, 100)}\n",
        "tree = DT(random_state=42)\n",
        "tree_clf = GridSearchCV(tree, tree_param, cv=3, scoring='accuracy') #scoring='balanced_accuracy')\n",
        "tree_clf.fit(X_train, y_train)\n",
        "best_tree_clf = tree_clf.best_estimator_"
      ],
      "execution_count": 152,
      "outputs": []
    },
    {
      "cell_type": "code",
      "metadata": {
        "id": "MXaedmnhoSB1",
        "colab_type": "code",
        "colab": {
          "base_uri": "https://localhost:8080/",
          "height": 265
        },
        "outputId": "bf7eff0b-1898-4623-ba7a-b8813c4912d0"
      },
      "source": [
        "print('Best Decision Tree accuracy: ', tree_clf.best_score_)\n",
        "print(best_tree_clf)\n",
        "results = results.append({'clf': best_tree_clf, 'best_acc': tree_clf.best_score_}, ignore_index=True)\n",
        "\n",
        "print('The best classifier so far is: ')\n",
        "print(results.loc[results['best_acc'].idxmax()]['clf'])"
      ],
      "execution_count": 153,
      "outputs": [
        {
          "output_type": "stream",
          "text": [
            "Best Decision Tree accuracy:  0.6399616368286445\n",
            "DecisionTreeClassifier(ccp_alpha=0.0, class_weight=None, criterion='gini',\n",
            "                       max_depth=None, max_features=None, max_leaf_nodes=None,\n",
            "                       min_impurity_decrease=0.0, min_impurity_split=None,\n",
            "                       min_samples_leaf=4, min_samples_split=100,\n",
            "                       min_weight_fraction_leaf=0.0, presort='deprecated',\n",
            "                       random_state=42, splitter='best')\n",
            "The best classifier so far is: \n",
            "DecisionTreeClassifier(ccp_alpha=0.0, class_weight=None, criterion='gini',\n",
            "                       max_depth=None, max_features=None, max_leaf_nodes=None,\n",
            "                       min_impurity_decrease=0.0, min_impurity_split=None,\n",
            "                       min_samples_leaf=4, min_samples_split=100,\n",
            "                       min_weight_fraction_leaf=0.0, presort='deprecated',\n",
            "                       random_state=42, splitter='best')\n"
          ],
          "name": "stdout"
        }
      ]
    },
    {
      "cell_type": "markdown",
      "metadata": {
        "id": "6yHgzXDSoSB4",
        "colab_type": "text"
      },
      "source": [
        "**And finally**, we predict the unknown label for the testing set"
      ]
    },
    {
      "cell_type": "code",
      "metadata": {
        "id": "e2meJczmKBb5",
        "colab_type": "code",
        "colab": {}
      },
      "source": [
        "#RANDOM FOREST\n",
        "from sklearn import ensemble\n",
        "clf = ensemble.RandomForestClassifier(random_state=2)\n",
        "clf.fit(X, y);"
      ],
      "execution_count": 154,
      "outputs": []
    },
    {
      "cell_type": "code",
      "metadata": {
        "id": "PiqVRydTQ0Rq",
        "colab_type": "code",
        "colab": {
          "base_uri": "https://localhost:8080/",
          "height": 34
        },
        "outputId": "cfb5406c-6356-420c-8d5e-747308bdb729"
      },
      "source": [
        "predictions = clf.predict(X)\n",
        "print ('Accuracy: %d ' % ((np.sum(y == predictions))/float(y.size)*100))"
      ],
      "execution_count": 156,
      "outputs": [
        {
          "output_type": "stream",
          "text": [
            "Accuracy: 99 \n"
          ],
          "name": "stdout"
        }
      ]
    },
    {
      "cell_type": "code",
      "metadata": {
        "id": "eiovfAIJG_PF",
        "colab_type": "code",
        "colab": {}
      },
      "source": [
        "predictions = clf.predict(XX)\n"
      ],
      "execution_count": 158,
      "outputs": []
    },
    {
      "cell_type": "code",
      "metadata": {
        "id": "rG7yX5zMJf2I",
        "colab_type": "code",
        "colab": {}
      },
      "source": [
        ""
      ],
      "execution_count": null,
      "outputs": []
    },
    {
      "cell_type": "code",
      "metadata": {
        "id": "D7X0NZcXHNFh",
        "colab_type": "code",
        "colab": {}
      },
      "source": [
        "submission2 = pd.DataFrame(list(zip(XX.VisitNumber, predictions)), columns=[\"VisitNumber\", \"TripType\"])"
      ],
      "execution_count": 159,
      "outputs": []
    },
    {
      "cell_type": "code",
      "metadata": {
        "id": "4-oI8GmrI7sU",
        "colab_type": "code",
        "colab": {}
      },
      "source": [
        "submission2.to_csv(\"sample_data/submission_randomforest.csv\", header=True, index=False)"
      ],
      "execution_count": 160,
      "outputs": []
    },
    {
      "cell_type": "markdown",
      "metadata": {
        "id": "AZXmJEYOHNWE",
        "colab_type": "text"
      },
      "source": [
        "Exportamos Resultados\n"
      ]
    },
    {
      "cell_type": "code",
      "metadata": {
        "id": "JeTaBZ57oSB5",
        "colab_type": "code",
        "colab": {
          "base_uri": "https://localhost:8080/",
          "height": 34
        },
        "outputId": "85080bb4-e08d-4607-b241-a9a8144c4666"
      },
      "source": [
        "X.shape, XX.shape"
      ],
      "execution_count": 213,
      "outputs": [
        {
          "output_type": "execute_result",
          "data": {
            "text/plain": [
              "((67029, 73), (28645, 73))"
            ]
          },
          "metadata": {
            "tags": []
          },
          "execution_count": 213
        }
      ]
    },
    {
      "cell_type": "code",
      "metadata": {
        "id": "mDmPRCTnoSB8",
        "colab_type": "code",
        "colab": {}
      },
      "source": [
        "yy = results.clf.iloc[0].predict(XX)"
      ],
      "execution_count": 214,
      "outputs": []
    },
    {
      "cell_type": "markdown",
      "metadata": {
        "id": "F6WieM5DoSCA",
        "colab_type": "text"
      },
      "source": [
        "The last thing we do is generating a file that should be *submitted* on kaggle"
      ]
    },
    {
      "cell_type": "code",
      "metadata": {
        "id": "XHJeKjjvoSCB",
        "colab_type": "code",
        "colab": {}
      },
      "source": [
        "submission = pd.DataFrame(list(zip(XX.VisitNumber, yy)), columns=[\"VisitNumber\", \"TripType\"])"
      ],
      "execution_count": 215,
      "outputs": []
    },
    {
      "cell_type": "code",
      "metadata": {
        "id": "V3RtAQlQoSCE",
        "colab_type": "code",
        "colab": {}
      },
      "source": [
        "submission.to_csv(\"sample_data/submission.csv\", header=True, index=False)"
      ],
      "execution_count": 216,
      "outputs": []
    }
  ]
}